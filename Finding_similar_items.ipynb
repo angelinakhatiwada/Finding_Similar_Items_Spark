{
  "nbformat": 4,
  "nbformat_minor": 0,
  "metadata": {
    "colab": {
      "name": "Finding similar items.ipynb",
      "provenance": [],
      "collapsed_sections": [],
      "authorship_tag": "ABX9TyMQ+soBXd4jU/+UY1jeBYDq",
      "include_colab_link": true
    },
    "kernelspec": {
      "display_name": "Python 3",
      "name": "python3"
    },
    "language_info": {
      "name": "python"
    }
  },
  "cells": [
    {
      "cell_type": "markdown",
      "metadata": {
        "id": "view-in-github",
        "colab_type": "text"
      },
      "source": [
        "<a href=\"https://colab.research.google.com/github/angelinakhatiwada/Finding_Similar_Items_Spark/blob/main/Finding_similar_items.ipynb\" target=\"_parent\"><img src=\"https://colab.research.google.com/assets/colab-badge.svg\" alt=\"Open In Colab\"/></a>"
      ]
    },
    {
      "cell_type": "markdown",
      "metadata": {
        "id": "DxsnGh3aJKpd"
      },
      "source": [
        "# **Finding similar items**\n",
        "\n",
        "### Project for the **Algorithms for massive data course**\n",
        "\n",
        "*Angelina Khatiwada, \\\n",
        "MSc, Data Science and Economics*\n",
        "\n",
        "December 2021"
      ]
    },
    {
      "cell_type": "markdown",
      "metadata": {
        "id": "iwuE_tNLMj1r"
      },
      "source": [
        "## Loading Kaggle Dataset and setting Spark environment"
      ]
    },
    {
      "cell_type": "code",
      "metadata": {
        "id": "XO_0y7YXJhuR",
        "colab": {
          "base_uri": "https://localhost:8080/"
        },
        "outputId": "250eb697-c18a-4e98-b1d4-9dd5f7cfb224"
      },
      "source": [
        "# installing Kaggle library\n",
        "# please upload your kaggle.json file with Kaggle API credentials manually to the files folder\n",
        "! pip install kaggle\n",
        "! mkdir ~/.kaggle\n",
        "! cp kaggle.json ~/.kaggle/\n",
        "! chmod 600 ~/.kaggle/kaggle.json"
      ],
      "execution_count": null,
      "outputs": [
        {
          "output_type": "stream",
          "name": "stdout",
          "text": [
            "Requirement already satisfied: kaggle in /usr/local/lib/python3.7/dist-packages (1.5.12)\n",
            "Requirement already satisfied: urllib3 in /usr/local/lib/python3.7/dist-packages (from kaggle) (1.24.3)\n",
            "Requirement already satisfied: certifi in /usr/local/lib/python3.7/dist-packages (from kaggle) (2021.10.8)\n",
            "Requirement already satisfied: requests in /usr/local/lib/python3.7/dist-packages (from kaggle) (2.23.0)\n",
            "Requirement already satisfied: six>=1.10 in /usr/local/lib/python3.7/dist-packages (from kaggle) (1.15.0)\n",
            "Requirement already satisfied: python-dateutil in /usr/local/lib/python3.7/dist-packages (from kaggle) (2.8.2)\n",
            "Requirement already satisfied: tqdm in /usr/local/lib/python3.7/dist-packages (from kaggle) (4.62.3)\n",
            "Requirement already satisfied: python-slugify in /usr/local/lib/python3.7/dist-packages (from kaggle) (5.0.2)\n",
            "Requirement already satisfied: text-unidecode>=1.3 in /usr/local/lib/python3.7/dist-packages (from python-slugify->kaggle) (1.3)\n",
            "Requirement already satisfied: chardet<4,>=3.0.2 in /usr/local/lib/python3.7/dist-packages (from requests->kaggle) (3.0.4)\n",
            "Requirement already satisfied: idna<3,>=2.5 in /usr/local/lib/python3.7/dist-packages (from requests->kaggle) (2.10)\n"
          ]
        }
      ]
    },
    {
      "cell_type": "code",
      "metadata": {
        "id": "K88b8oIdN3HE",
        "colab": {
          "base_uri": "https://localhost:8080/"
        },
        "outputId": "d19d1e41-8c78-449c-9c24-0c942a4e24ca"
      },
      "source": [
        "#dataset link: https://www.kaggle.com/stackoverflow/stacksample\n",
        "! kaggle datasets download stackoverflow/stacksample"
      ],
      "execution_count": null,
      "outputs": [
        {
          "output_type": "stream",
          "name": "stdout",
          "text": [
            "Downloading stacksample.zip to /content\n",
            " 99% 1.09G/1.11G [00:44<00:00, 19.4MB/s]\n",
            "100% 1.11G/1.11G [00:44<00:00, 26.9MB/s]\n"
          ]
        }
      ]
    },
    {
      "cell_type": "code",
      "metadata": {
        "id": "mKoCSyQrMz6n",
        "colab": {
          "base_uri": "https://localhost:8080/"
        },
        "outputId": "459b81d9-217c-4db2-bda7-fa14336c0e61"
      },
      "source": [
        "! unzip stacksample.zip"
      ],
      "execution_count": null,
      "outputs": [
        {
          "output_type": "stream",
          "name": "stdout",
          "text": [
            "Archive:  stacksample.zip\n",
            "  inflating: Answers.csv             \n",
            "  inflating: Questions.csv           \n",
            "  inflating: Tags.csv                \n"
          ]
        }
      ]
    },
    {
      "cell_type": "code",
      "metadata": {
        "id": "l4_qVD9YBYNo",
        "colab": {
          "base_uri": "https://localhost:8080/"
        },
        "outputId": "3c44a778-d434-4e82-89ef-b485c9dbe033"
      },
      "source": [
        "# installing and importing pyspark and other libraries\n",
        "!pip install pyspark\n",
        "from pyspark import SparkConf, SparkContext\n",
        "from pyspark.sql import SparkSession\n",
        "from pyspark.sql.functions import isnan, when, count, col, countDistinct, udf, lower, regexp_replace, size\n",
        "from pyspark.ml.feature import Tokenizer, StopWordsRemover, HashingTF, IDF, MinHashLSH, Normalizer\n",
        "from pyspark.sql.types import DoubleType\n",
        "import time\n",
        "import pandas as pd\n",
        "import matplotlib.pyplot as plt\n",
        "from matplotlib.pyplot import figure\n",
        "from sklearn.preprocessing import PolynomialFeatures\n",
        "from sklearn.linear_model import LinearRegression\n",
        "import datetime\n",
        "import warnings\n",
        "warnings.filterwarnings(\"ignore\")"
      ],
      "execution_count": null,
      "outputs": [
        {
          "output_type": "stream",
          "name": "stdout",
          "text": [
            "Collecting pyspark\n",
            "  Downloading pyspark-3.2.0.tar.gz (281.3 MB)\n",
            "\u001b[K     |████████████████████████████████| 281.3 MB 39 kB/s \n",
            "\u001b[?25hCollecting py4j==0.10.9.2\n",
            "  Downloading py4j-0.10.9.2-py2.py3-none-any.whl (198 kB)\n",
            "\u001b[K     |████████████████████████████████| 198 kB 59.6 MB/s \n",
            "\u001b[?25hBuilding wheels for collected packages: pyspark\n",
            "  Building wheel for pyspark (setup.py) ... \u001b[?25l\u001b[?25hdone\n",
            "  Created wheel for pyspark: filename=pyspark-3.2.0-py2.py3-none-any.whl size=281805912 sha256=7b0cc65d21b65452ebfe18948efb91a107ece23d7b25fc5da2fefc155aecf1c1\n",
            "  Stored in directory: /root/.cache/pip/wheels/0b/de/d2/9be5d59d7331c6c2a7c1b6d1a4f463ce107332b1ecd4e80718\n",
            "Successfully built pyspark\n",
            "Installing collected packages: py4j, pyspark\n",
            "Successfully installed py4j-0.10.9.2 pyspark-3.2.0\n"
          ]
        }
      ]
    },
    {
      "cell_type": "code",
      "source": [
        "# setting Spark 3.2.0 environment\n",
        "!apt-get install openjdk-8-jdk-headless -qq > /dev/null\n",
        "!wget -q http://www-eu.apache.org/dist/spark/spark-3.2.0/spark-3.2.0-bin-hadoop2.7.tgz\n",
        "!tar xf spark-3.2.0-bin-hadoop2.7.tgz\n",
        "!pip install -q findspark\n",
        "\n",
        "import os\n",
        "os.environ[\"JAVA_HOME\"] = \"/usr/lib/jvm/java-8-openjdk-amd64\"\n",
        "#os.environ[\"SPARK_HOME\"] = \"/content/spark-3.2.0-bin-hadoop2.7\"\n",
        "\n",
        "#SparkSession initialization\n",
        "conf = SparkConf().setAppName(\"similar_items\")\n",
        "spark = SparkSession.builder.enableHiveSupport().config(conf = conf).getOrCreate()\n",
        "sc = spark.sparkContext\n",
        "type(sc)"
      ],
      "metadata": {
        "id": "vi9-U6C8_S7A",
        "colab": {
          "base_uri": "https://localhost:8080/"
        },
        "outputId": "d4764a3c-66e5-4e29-e0dc-f542f4095f24"
      },
      "execution_count": null,
      "outputs": [
        {
          "output_type": "execute_result",
          "data": {
            "text/plain": [
              "pyspark.context.SparkContext"
            ]
          },
          "metadata": {},
          "execution_count": 5
        }
      ]
    },
    {
      "cell_type": "code",
      "metadata": {
        "id": "GrDqmp5oCvpk"
      },
      "source": [
        "# reading table Questions\n",
        "questions_df = spark.read.csv('Questions.csv', header=True, inferSchema=True, multiLine=True, escape='\"',\n",
        "                           encoding = \"ISO-8859-1\")"
      ],
      "execution_count": null,
      "outputs": []
    },
    {
      "cell_type": "markdown",
      "metadata": {
        "id": "1Ij7FStoJHqW"
      },
      "source": [
        "## Pre-processsing"
      ]
    },
    {
      "cell_type": "markdown",
      "source": [
        "### Exploratory analysis"
      ],
      "metadata": {
        "id": "IQCLm09IW0Wm"
      }
    },
    {
      "cell_type": "code",
      "metadata": {
        "id": "k4-AFcvd0gc6",
        "colab": {
          "base_uri": "https://localhost:8080/"
        },
        "outputId": "2967d232-e468-4b5a-ac34-2347622c49a8"
      },
      "source": [
        "# Display schema and data sample\n",
        "questions_df.printSchema()\n",
        "print(\"Size of the DataFrame: {} records\".format(questions_df.count()))"
      ],
      "execution_count": null,
      "outputs": [
        {
          "output_type": "stream",
          "name": "stdout",
          "text": [
            "root\n",
            " |-- Id: integer (nullable = true)\n",
            " |-- OwnerUserId: string (nullable = true)\n",
            " |-- CreationDate: timestamp (nullable = true)\n",
            " |-- ClosedDate: string (nullable = true)\n",
            " |-- Score: integer (nullable = true)\n",
            " |-- Title: string (nullable = true)\n",
            " |-- Body: string (nullable = true)\n",
            "\n",
            "Size of the DataFrame: 1264216 records\n"
          ]
        }
      ]
    },
    {
      "cell_type": "code",
      "metadata": {
        "id": "gP9zi1hEEm1s",
        "colab": {
          "base_uri": "https://localhost:8080/"
        },
        "outputId": "d9b676d7-2e1c-4a87-d55f-a877314b76ea"
      },
      "source": [
        "questions_df.show(n = 10)"
      ],
      "execution_count": null,
      "outputs": [
        {
          "output_type": "stream",
          "name": "stdout",
          "text": [
            "+---+-----------+-------------------+--------------------+-----+--------------------+--------------------+\n",
            "| Id|OwnerUserId|       CreationDate|          ClosedDate|Score|               Title|                Body|\n",
            "+---+-----------+-------------------+--------------------+-----+--------------------+--------------------+\n",
            "| 80|         26|2008-08-01 13:57:07|                  NA|   26|SQLStatement.exec...|<p>I've written a...|\n",
            "| 90|         58|2008-08-01 14:41:24|2012-12-26T03:45:49Z|  144|Good branching an...|<p>Are there any ...|\n",
            "|120|         83|2008-08-01 15:50:08|                  NA|   21|   ASP.NET Site Maps|<p>Has anyone got...|\n",
            "|180|    2089740|2008-08-01 18:42:19|                  NA|   53|Function for crea...|<p>This is someth...|\n",
            "|260|         91|2008-08-01 23:22:08|                  NA|   49|Adding scripting ...|<p>I have a littl...|\n",
            "|330|         63|2008-08-02 02:51:36|                  NA|   29|Should I use nest...|<p>I am working o...|\n",
            "|470|         71|2008-08-02 15:11:47|2016-03-26T05:23:29Z|   13|Homegrown consump...|<p>I've been writ...|\n",
            "|580|         91|2008-08-02 23:30:59|                  NA|   21|Deploying SQL Ser...|<p>I wonder how y...|\n",
            "|650|        143|2008-08-03 11:12:52|                  NA|   79|Automatically upd...|<p>I would like t...|\n",
            "|810|        233|2008-08-03 20:35:01|                  NA|    9|Visual Studio Set...|<p>I'm trying to ...|\n",
            "+---+-----------+-------------------+--------------------+-----+--------------------+--------------------+\n",
            "only showing top 10 rows\n",
            "\n"
          ]
        }
      ]
    },
    {
      "cell_type": "code",
      "metadata": {
        "id": "mK2QbuWnn1OC",
        "colab": {
          "base_uri": "https://localhost:8080/"
        },
        "outputId": "ee85741e-f1d7-4260-d0c5-46b170f38c9f"
      },
      "source": [
        "#select columns Id, Title, Body\n",
        "questions = questions_df.select(\"Id\", \"Title\", \"Body\")\n",
        "questions.show(n = 10)"
      ],
      "execution_count": null,
      "outputs": [
        {
          "output_type": "stream",
          "name": "stdout",
          "text": [
            "+---+--------------------+--------------------+\n",
            "| Id|               Title|                Body|\n",
            "+---+--------------------+--------------------+\n",
            "| 80|SQLStatement.exec...|<p>I've written a...|\n",
            "| 90|Good branching an...|<p>Are there any ...|\n",
            "|120|   ASP.NET Site Maps|<p>Has anyone got...|\n",
            "|180|Function for crea...|<p>This is someth...|\n",
            "|260|Adding scripting ...|<p>I have a littl...|\n",
            "|330|Should I use nest...|<p>I am working o...|\n",
            "|470|Homegrown consump...|<p>I've been writ...|\n",
            "|580|Deploying SQL Ser...|<p>I wonder how y...|\n",
            "|650|Automatically upd...|<p>I would like t...|\n",
            "|810|Visual Studio Set...|<p>I'm trying to ...|\n",
            "+---+--------------------+--------------------+\n",
            "only showing top 10 rows\n",
            "\n"
          ]
        }
      ]
    },
    {
      "cell_type": "code",
      "metadata": {
        "id": "y00fjC5eEm7G",
        "colab": {
          "base_uri": "https://localhost:8080/"
        },
        "outputId": "ba27223a-f484-4767-b734-93c7ee8bf48c"
      },
      "source": [
        "type(questions)"
      ],
      "execution_count": null,
      "outputs": [
        {
          "output_type": "execute_result",
          "data": {
            "text/plain": [
              "pyspark.sql.dataframe.DataFrame"
            ]
          },
          "metadata": {},
          "execution_count": 75
        }
      ]
    },
    {
      "cell_type": "code",
      "metadata": {
        "id": "8OF0LsTPm_0X",
        "colab": {
          "base_uri": "https://localhost:8080/"
        },
        "outputId": "2d15bb4e-db31-42a0-8c05-fc9450042794"
      },
      "source": [
        "#check if there are missing values in the columns - no missing values\n",
        "questions.select([count(when(isnan(c), c)).alias(c) for c in questions.columns]).show()"
      ],
      "execution_count": null,
      "outputs": [
        {
          "output_type": "stream",
          "name": "stdout",
          "text": [
            "+---+-----+----+\n",
            "| Id|Title|Body|\n",
            "+---+-----+----+\n",
            "|  0|    0|   0|\n",
            "+---+-----+----+\n",
            "\n"
          ]
        }
      ]
    },
    {
      "cell_type": "code",
      "metadata": {
        "id": "1kE_bAIDhq_O",
        "colab": {
          "base_uri": "https://localhost:8080/"
        },
        "outputId": "119df172-872c-43e6-ec65-3c560c30499e"
      },
      "source": [
        "#count distinct values in each column\n",
        "questions.select([countDistinct(c).alias(c) for c in questions.columns]).show()"
      ],
      "execution_count": null,
      "outputs": [
        {
          "output_type": "stream",
          "name": "stdout",
          "text": [
            "+-------+-------+-------+\n",
            "|     Id|  Title|   Body|\n",
            "+-------+-------+-------+\n",
            "|1264216|1263995|1264204|\n",
            "+-------+-------+-------+\n",
            "\n"
          ]
        }
      ]
    },
    {
      "cell_type": "markdown",
      "source": [
        "### Duplicates check"
      ],
      "metadata": {
        "id": "cKCAJFdwWs9U"
      }
    },
    {
      "cell_type": "code",
      "metadata": {
        "id": "XV3besS7pYcY",
        "colab": {
          "base_uri": "https://localhost:8080/"
        },
        "outputId": "25983119-f228-40dc-a5e2-85c723ebeb85"
      },
      "source": [
        "# show duplicates in Body column\n",
        "questions.groupBy(\"Body\").count().filter(\"count > 1\").show()"
      ],
      "execution_count": null,
      "outputs": [
        {
          "output_type": "stream",
          "name": "stdout",
          "text": [
            "+--------------------+-----+\n",
            "|                Body|count|\n",
            "+--------------------+-----+\n",
            "|<p>How I can disp...|    2|\n",
            "|<p>I'm attempting...|    2|\n",
            "|<p>I got problem ...|    2|\n",
            "|<p>I have Some Pa...|    2|\n",
            "|<p>I'm working on...|    2|\n",
            "|<p>I am using MS ...|    2|\n",
            "|<p>PayPal IPN sen...|    2|\n",
            "|<p>Is it possible...|    2|\n",
            "|<p>Anyone know ho...|    2|\n",
            "|<p>I am trying to...|    2|\n",
            "|<p>How can I use ...|    2|\n",
            "|<p>When I tried t...|    2|\n",
            "+--------------------+-----+\n",
            "\n"
          ]
        }
      ]
    },
    {
      "cell_type": "code",
      "metadata": {
        "id": "J92fBerLzCRg",
        "colab": {
          "base_uri": "https://localhost:8080/"
        },
        "outputId": "352bb69d-b12c-4d0f-b92e-cb167733e4f3"
      },
      "source": [
        "# show duplicates in Body that are also duplicates in Title\n",
        "questions.groupBy( \"Body\", \"Title\").count().filter(\"count > 1\").show()"
      ],
      "execution_count": null,
      "outputs": [
        {
          "output_type": "stream",
          "name": "stdout",
          "text": [
            "+--------------------+--------------------+-----+\n",
            "|                Body|               Title|count|\n",
            "+--------------------+--------------------+-----+\n",
            "|<p>I am trying to...|Android: BitmapDr...|    2|\n",
            "|<p>PayPal IPN sen...|Cannot send value...|    2|\n",
            "+--------------------+--------------------+-----+\n",
            "\n"
          ]
        }
      ]
    },
    {
      "cell_type": "code",
      "metadata": {
        "id": "cT_g0LS-G49O"
      },
      "source": [
        "questions_duplicate = questions.join(questions.groupBy('Body')\\\n",
        "                               .count().where('count = 1').drop('count'),\n",
        "                                on=['Body'],\n",
        "                                how='left_anti')"
      ],
      "execution_count": null,
      "outputs": []
    },
    {
      "cell_type": "code",
      "metadata": {
        "id": "wyjx23J2zqso"
      },
      "source": [
        "questions_duplicate2 = questions.join(questions.groupBy('Title', 'Body')\\\n",
        "                               .count().where('count = 1').drop('count'),\n",
        "                                on=['Title', 'Body'],\n",
        "                                how='left_anti')"
      ],
      "execution_count": null,
      "outputs": []
    },
    {
      "cell_type": "code",
      "metadata": {
        "id": "YZJQjEgWJz1t",
        "colab": {
          "base_uri": "https://localhost:8080/"
        },
        "outputId": "bc138b1f-82e9-43c7-9f38-0eb60bb17d50"
      },
      "source": [
        "# 12 pairs of duplicates in Body column\n",
        "questions_duplicate.show(questions_duplicate.count())"
      ],
      "execution_count": null,
      "outputs": [
        {
          "output_type": "stream",
          "name": "stdout",
          "text": [
            "+--------------------+--------+--------------------+\n",
            "|                Body|      Id|               Title|\n",
            "+--------------------+--------+--------------------+\n",
            "|<p>How I can disp...|30993210|dompdf - display ...|\n",
            "|<p>How I can disp...|31037750|How to determine ...|\n",
            "|<p>I'm attempting...| 3400470|Create a smooth f...|\n",
            "|<p>I'm attempting...| 6426300|Android: Smooth f...|\n",
            "|<p>I got problem ...|30128150|Can not find post...|\n",
            "|<p>I got problem ...|30138690|Can not connect w...|\n",
            "|<p>I have Some Pa...| 6744140|Store JavaScript ...|\n",
            "|<p>I have Some Pa...| 6744970|Store JavaScript ...|\n",
            "|<p>I'm working on...|38120120|Inserting to sort...|\n",
            "|<p>I'm working on...|38124500|Inserting element...|\n",
            "|<p>I am using MS ...|23876060|ODBC SQL Server D...|\n",
            "|<p>I am using MS ...|24001180|ODBC SQL Server D...|\n",
            "|<p>PayPal IPN sen...| 2807730|Cannot send value...|\n",
            "|<p>PayPal IPN sen...| 2808090|Cannot send value...|\n",
            "|<p>Anyone know ho...|23401620|how to open and r...|\n",
            "|<p>Anyone know ho...|23403060|How to read the u...|\n",
            "|<p>Is it possible...| 4115730|Iphone simulator ...|\n",
            "|<p>Is it possible...| 4380590|run asp.net 3.5 s...|\n",
            "|<p>I am trying to...| 5087720|Android: BitmapDr...|\n",
            "|<p>I am trying to...| 5090290|Android: BitmapDr...|\n",
            "|<p>How can I use ...| 4815160|How can I use an ...|\n",
            "|<p>How can I use ...|16528470|How can I use an ...|\n",
            "|<p>When I tried t...|35740350|How do I position...|\n",
            "|<p>When I tried t...|35757150|CSS how to positi...|\n",
            "+--------------------+--------+--------------------+\n",
            "\n"
          ]
        }
      ]
    },
    {
      "cell_type": "code",
      "metadata": {
        "id": "2XpHlmYez1EV",
        "colab": {
          "base_uri": "https://localhost:8080/"
        },
        "outputId": "f8433d0e-7fe7-44aa-fbc5-9d690f8e1ef2"
      },
      "source": [
        "# 2 pairs of dupicates in Title and Body columns\n",
        "questions_duplicate2.show(questions_duplicate2.count())"
      ],
      "execution_count": null,
      "outputs": [
        {
          "output_type": "stream",
          "name": "stdout",
          "text": [
            "+--------------------+--------------------+-------+\n",
            "|               Title|                Body|     Id|\n",
            "+--------------------+--------------------+-------+\n",
            "|Android: BitmapDr...|<p>I am trying to...|5087720|\n",
            "|Android: BitmapDr...|<p>I am trying to...|5090290|\n",
            "|Cannot send value...|<p>PayPal IPN sen...|2807730|\n",
            "|Cannot send value...|<p>PayPal IPN sen...|2808090|\n",
            "+--------------------+--------------------+-------+\n",
            "\n"
          ]
        }
      ]
    },
    {
      "cell_type": "markdown",
      "source": [
        "### Text cleaning and pre-processing"
      ],
      "metadata": {
        "id": "bt3tYIIrXEt_"
      }
    },
    {
      "cell_type": "code",
      "metadata": {
        "id": "QkbmP0slULSA",
        "colab": {
          "base_uri": "https://localhost:8080/"
        },
        "outputId": "a6197546-5728-4140-8cdb-14bb8bd2b81f"
      },
      "source": [
        "#select Id, Body columns\n",
        "# Only Body column is used for the further analysis\n",
        "questions_body = questions.select(\"Id\", \"Body\")\n",
        "questions_body.show(n = 10)"
      ],
      "execution_count": null,
      "outputs": [
        {
          "output_type": "stream",
          "name": "stdout",
          "text": [
            "+---+--------------------+\n",
            "| Id|                Body|\n",
            "+---+--------------------+\n",
            "| 80|<p>I've written a...|\n",
            "| 90|<p>Are there any ...|\n",
            "|120|<p>Has anyone got...|\n",
            "|180|<p>This is someth...|\n",
            "|260|<p>I have a littl...|\n",
            "|330|<p>I am working o...|\n",
            "|470|<p>I've been writ...|\n",
            "|580|<p>I wonder how y...|\n",
            "|650|<p>I would like t...|\n",
            "|810|<p>I'm trying to ...|\n",
            "+---+--------------------+\n",
            "only showing top 10 rows\n",
            "\n"
          ]
        }
      ]
    },
    {
      "cell_type": "markdown",
      "metadata": {
        "id": "bqzS5IwnLcLr"
      },
      "source": [
        "Only questions body is used to find similar questions, so the title is removed from the further analysis. The following text transformations are applied:\n",
        "1. Transforming text to lowercase\n",
        "2. Removing html tagging\n",
        "3. Remove numbers\n",
        "4. Removing punctuation \n",
        "5. Text tokenization\n",
        "6. Removing stopwords"
      ]
    },
    {
      "cell_type": "code",
      "metadata": {
        "id": "6wAnBOr-YHJ-"
      },
      "source": [
        "# cleaning the text\n",
        "def clean_text(text):\n",
        "  text = lower(text)\n",
        "  text = regexp_replace(text, \"<[^>]*>\", \"\")\n",
        "  text = regexp_replace(text, \"[^a-zA-Z\\\\s]\", \"\")\n",
        "  return text"
      ],
      "execution_count": null,
      "outputs": []
    },
    {
      "cell_type": "code",
      "metadata": {
        "id": "Pr4enLmFYcDK",
        "colab": {
          "base_uri": "https://localhost:8080/"
        },
        "outputId": "def30d11-b4d7-411b-b19e-7d9a6e9da4f5"
      },
      "source": [
        "clean_questions = questions_body.select('Id', clean_text(col(\"Body\")).alias(\"Body\"))\n",
        "clean_questions.show(10)"
      ],
      "execution_count": null,
      "outputs": [
        {
          "output_type": "stream",
          "name": "stdout",
          "text": [
            "+---+--------------------+\n",
            "| Id|                Body|\n",
            "+---+--------------------+\n",
            "| 80|ive written a dat...|\n",
            "| 90|are there any rea...|\n",
            "|120|has anyone got ex...|\n",
            "|180|this is something...|\n",
            "|260|i have a little g...|\n",
            "|330|i am working on a...|\n",
            "|470|ive been writing ...|\n",
            "|580|i wonder how you ...|\n",
            "|650|i would like the ...|\n",
            "|810|im trying to main...|\n",
            "+---+--------------------+\n",
            "only showing top 10 rows\n",
            "\n"
          ]
        }
      ]
    },
    {
      "cell_type": "code",
      "metadata": {
        "id": "-wYrYK2rSa37",
        "colab": {
          "base_uri": "https://localhost:8080/"
        },
        "outputId": "25c551bf-6cf3-4d29-b04c-51ac61990406"
      },
      "source": [
        "# text tokenization\n",
        "tokenizer = Tokenizer().setInputCol(\"Body\").setOutputCol(\"Tokens\")\n",
        "tokenized = tokenizer.transform(clean_questions)\n",
        "tokenized.show(10)"
      ],
      "execution_count": null,
      "outputs": [
        {
          "output_type": "stream",
          "name": "stdout",
          "text": [
            "+---+--------------------+--------------------+\n",
            "| Id|                Body|              Tokens|\n",
            "+---+--------------------+--------------------+\n",
            "| 80|ive written a dat...|[ive, written, a,...|\n",
            "| 90|are there any rea...|[are, there, any,...|\n",
            "|120|has anyone got ex...|[has, anyone, got...|\n",
            "|180|this is something...|[this, is, someth...|\n",
            "|260|i have a little g...|[i, have, a, litt...|\n",
            "|330|i am working on a...|[i, am, working, ...|\n",
            "|470|ive been writing ...|[ive, been, writi...|\n",
            "|580|i wonder how you ...|[i, wonder, how, ...|\n",
            "|650|i would like the ...|[i, would, like, ...|\n",
            "|810|im trying to main...|[im, trying, to, ...|\n",
            "+---+--------------------+--------------------+\n",
            "only showing top 10 rows\n",
            "\n"
          ]
        }
      ]
    },
    {
      "cell_type": "code",
      "metadata": {
        "id": "YB04yCdxxhsD",
        "colab": {
          "base_uri": "https://localhost:8080/"
        },
        "outputId": "5c03c4ad-78cb-4116-ded9-f45df6da5319"
      },
      "source": [
        "# counting the number of tokens\n",
        "tokenized = tokenized.withColumn(\"Number of tokens\", size(tokenized['Tokens']))\n",
        "tokenized.show(5)"
      ],
      "execution_count": null,
      "outputs": [
        {
          "output_type": "stream",
          "name": "stdout",
          "text": [
            "+---+--------------------+--------------------+----------------+\n",
            "| Id|                Body|              Tokens|Number of tokens|\n",
            "+---+--------------------+--------------------+----------------+\n",
            "| 80|ive written a dat...|[ive, written, a,...|             349|\n",
            "| 90|are there any rea...|[are, there, any,...|              24|\n",
            "|120|has anyone got ex...|[has, anyone, got...|              58|\n",
            "|180|this is something...|[this, is, someth...|              41|\n",
            "|260|i have a little g...|[i, have, a, litt...|             181|\n",
            "+---+--------------------+--------------------+----------------+\n",
            "only showing top 5 rows\n",
            "\n"
          ]
        }
      ]
    },
    {
      "cell_type": "code",
      "metadata": {
        "id": "X2reT-PaWEI9",
        "colab": {
          "base_uri": "https://localhost:8080/"
        },
        "outputId": "c0e176c6-a540-49cd-bab5-f5cde3e7ae05"
      },
      "source": [
        "# removing stopwords using default list\n",
        "remove_stopwords = StopWordsRemover()\n",
        "stopwords = remove_stopwords.getStopWords() \n",
        "print(stopwords[:10])\n",
        "print(len(stopwords))\n",
        "\n",
        "remove_stopwords.setInputCol(\"Tokens\").setOutputCol(\"Tokens stopwords removed\")\n",
        "tokenized_clean = remove_stopwords.transform(tokenized)"
      ],
      "execution_count": null,
      "outputs": [
        {
          "output_type": "stream",
          "name": "stdout",
          "text": [
            "['i', 'me', 'my', 'myself', 'we', 'our', 'ours', 'ourselves', 'you', 'your']\n",
            "181\n"
          ]
        }
      ]
    },
    {
      "cell_type": "code",
      "metadata": {
        "id": "f0LngtkoSdCO",
        "colab": {
          "base_uri": "https://localhost:8080/"
        },
        "outputId": "b21c4740-fba9-4d35-df71-55e853268f9a"
      },
      "source": [
        "# counting the number of tokens with stopwords removed\n",
        "tokenized_clean = tokenized_clean.withColumn(\"Number of tokens stopwords removed\", size(tokenized_clean['Tokens stopwords removed']))\n",
        "tokenized_clean.show(10)"
      ],
      "execution_count": null,
      "outputs": [
        {
          "output_type": "stream",
          "name": "stdout",
          "text": [
            "+---+--------------------+--------------------+----------------+------------------------+----------------------------------+\n",
            "| Id|                Body|              Tokens|Number of tokens|Tokens stopwords removed|Number of tokens stopwords removed|\n",
            "+---+--------------------+--------------------+----------------+------------------------+----------------------------------+\n",
            "| 80|ive written a dat...|[ive, written, a,...|             349|    [ive, written, da...|                               317|\n",
            "| 90|are there any rea...|[are, there, any,...|              24|    [really, good, tu...|                                14|\n",
            "|120|has anyone got ex...|[has, anyone, got...|              58|    [anyone, got, exp...|                                40|\n",
            "|180|this is something...|[this, is, someth...|              41|    [something, ive, ...|                                21|\n",
            "|260|i have a little g...|[i, have, a, litt...|             181|    [little, game, wr...|                                96|\n",
            "|330|i am working on a...|[i, am, working, ...|             170|    [working, collect...|                                89|\n",
            "|470|ive been writing ...|[ive, been, writi...|              54|    [ive, writing, we...|                                31|\n",
            "|580|i wonder how you ...|[i, wonder, how, ...|             256|    [wonder, guys, ma...|                               142|\n",
            "|650|i would like the ...|[i, would, like, ...|             156|    [like, version, p...|                                82|\n",
            "|810|im trying to main...|[im, trying, to, ...|             188|    [im, trying, main...|                                98|\n",
            "+---+--------------------+--------------------+----------------+------------------------+----------------------------------+\n",
            "only showing top 10 rows\n",
            "\n"
          ]
        }
      ]
    },
    {
      "cell_type": "code",
      "source": [
        "#select columns Id, \"Tokens stopwords removed\"\n",
        "questions_final = tokenized_clean.select(\"Id\", \"Tokens stopwords removed\")\n",
        "questions_final.show(n = 10)"
      ],
      "metadata": {
        "colab": {
          "base_uri": "https://localhost:8080/"
        },
        "id": "3R_5Mza0e-TW",
        "outputId": "fc96a43e-6272-4706-e976-4e5961753e54"
      },
      "execution_count": null,
      "outputs": [
        {
          "output_type": "stream",
          "name": "stdout",
          "text": [
            "+---+------------------------+\n",
            "| Id|Tokens stopwords removed|\n",
            "+---+------------------------+\n",
            "| 80|    [ive, written, da...|\n",
            "| 90|    [really, good, tu...|\n",
            "|120|    [anyone, got, exp...|\n",
            "|180|    [something, ive, ...|\n",
            "|260|    [little, game, wr...|\n",
            "|330|    [working, collect...|\n",
            "|470|    [ive, writing, we...|\n",
            "|580|    [wonder, guys, ma...|\n",
            "|650|    [like, version, p...|\n",
            "|810|    [im, trying, main...|\n",
            "+---+------------------------+\n",
            "only showing top 10 rows\n",
            "\n"
          ]
        }
      ]
    },
    {
      "cell_type": "code",
      "source": [
        "# remove empty rows \n",
        "questions_final_filtered = questions_final.where((size(col(\"Tokens stopwords removed\")) >= 1))\n",
        "#questions_final_filtered.count()"
      ],
      "metadata": {
        "id": "4WsgnQ_sdFZR"
      },
      "execution_count": null,
      "outputs": []
    },
    {
      "cell_type": "markdown",
      "metadata": {
        "id": "yZ9ql4gP4En6"
      },
      "source": [
        "## Feature extraction and similarity analysis"
      ]
    },
    {
      "cell_type": "code",
      "source": [
        "# creating list of chunk sizes\n",
        "a = 100\n",
        "sample_size = []\n",
        "for i in range(0,11):\n",
        "    sample_size.append(a)\n",
        "    a = a*2\n",
        "sample_size"
      ],
      "metadata": {
        "colab": {
          "base_uri": "https://localhost:8080/"
        },
        "id": "bdOxCqtwoHBo",
        "outputId": "22c43573-b154-48bf-8af6-90929c2ae882"
      },
      "execution_count": null,
      "outputs": [
        {
          "output_type": "execute_result",
          "data": {
            "text/plain": [
              "[100, 200, 400, 800, 1600, 3200, 6400, 12800, 25600, 51200, 102400]"
            ]
          },
          "metadata": {},
          "execution_count": 4
        }
      ]
    },
    {
      "cell_type": "markdown",
      "source": [
        "#### TF + MinHash"
      ],
      "metadata": {
        "id": "j2H3BoHVAe88"
      }
    },
    {
      "cell_type": "code",
      "source": [
        "computation_time_tf = []\n",
        "for size in sample_size:\n",
        "  # set up a timer\n",
        "  start = time.time()\n",
        "\n",
        "  print('Size: ' + str(size))\n",
        "\n",
        "  # limit number of columns for analysis\n",
        "  questions_final_limited = questions_final_filtered.limit(size)\n",
        "\n",
        "  # computing TF\n",
        "  hashingTF = HashingTF(inputCol=\"Tokens stopwords removed\", outputCol=\"TF\", numFeatures=1024)\n",
        "  tf = hashingTF.transform(questions_final_limited)\n",
        "\n",
        "  # computing MinHash \n",
        "  mh = MinHashLSH(inputCol=\"TF\", outputCol=\"hashes\", seed = 3)\n",
        "  model = mh.fit(tf)\n",
        "  hash = model.transform(tf)\n",
        "\n",
        "  # computing the locality sensitive hashes and performing approximate similarity join\n",
        "  print(\"Approximately joining on distance smaller than 0.6, duplicate ids removed:\")\n",
        "  result = model.approxSimilarityJoin(hash, hash, 0.6, distCol=\"JaccardDistance\")\\\n",
        "              .select(col(\"datasetA.id\").alias(\"id1\"),\n",
        "              col(\"datasetB.id\").alias(\"id2\"),\n",
        "              col(\"JaccardDistance\")).filter('id1 < id2')\n",
        "              \n",
        "  # showing id pairs with distance < 0.6 sorted in ascending order\n",
        "  result.sort(result.JaccardDistance.asc()).show(10)\n",
        "\n",
        "  #stop the timer\n",
        "  end = time.time()\n",
        "\n",
        "  computation_time = round(end - start, 3)\n",
        "  print(\"Computation time: {} seconds\".format(round(end - start, 3)))\n",
        "\n",
        "  computation_time_tf.append(computation_time)\n",
        "\n",
        "  print('------------------------------------')"
      ],
      "metadata": {
        "colab": {
          "base_uri": "https://localhost:8080/"
        },
        "id": "o_CG1knSxokc",
        "outputId": "604c2605-c281-495f-9088-d45a6c8b0a19"
      },
      "execution_count": null,
      "outputs": [
        {
          "output_type": "stream",
          "name": "stdout",
          "text": [
            "Size: 100\n",
            "Approximately joining on distance smaller than 0.6, duplicate ids removed:\n",
            "+---+---+---------------+\n",
            "|id1|id2|JaccardDistance|\n",
            "+---+---+---------------+\n",
            "+---+---+---------------+\n",
            "\n",
            "Computation time: 1.081 seconds\n",
            "------------------------------------\n",
            "Size: 200\n",
            "Approximately joining on distance smaller than 0.6, duplicate ids removed:\n",
            "+---+---+---------------+\n",
            "|id1|id2|JaccardDistance|\n",
            "+---+---+---------------+\n",
            "+---+---+---------------+\n",
            "\n",
            "Computation time: 1.186 seconds\n",
            "------------------------------------\n",
            "Size: 400\n",
            "Approximately joining on distance smaller than 0.6, duplicate ids removed:\n",
            "+---+---+---------------+\n",
            "|id1|id2|JaccardDistance|\n",
            "+---+---+---------------+\n",
            "+---+---+---------------+\n",
            "\n",
            "Computation time: 1.344 seconds\n",
            "------------------------------------\n",
            "Size: 800\n",
            "Approximately joining on distance smaller than 0.6, duplicate ids removed:\n",
            "+---+---+---------------+\n",
            "|id1|id2|JaccardDistance|\n",
            "+---+---+---------------+\n",
            "+---+---+---------------+\n",
            "\n",
            "Computation time: 1.726 seconds\n",
            "------------------------------------\n",
            "Size: 1600\n",
            "Approximately joining on distance smaller than 0.6, duplicate ids removed:\n",
            "+---+---+---------------+\n",
            "|id1|id2|JaccardDistance|\n",
            "+---+---+---------------+\n",
            "+---+---+---------------+\n",
            "\n",
            "Computation time: 3.026 seconds\n",
            "------------------------------------\n",
            "Size: 3200\n",
            "Approximately joining on distance smaller than 0.6, duplicate ids removed:\n",
            "+---+---+---------------+\n",
            "|id1|id2|JaccardDistance|\n",
            "+---+---+---------------+\n",
            "+---+---+---------------+\n",
            "\n",
            "Computation time: 5.552 seconds\n",
            "------------------------------------\n",
            "Size: 6400\n",
            "Approximately joining on distance smaller than 0.6, duplicate ids removed:\n",
            "+------+------+------------------+\n",
            "|   id1|   id2|   JaccardDistance|\n",
            "+------+------+------------------+\n",
            "|270440|272190|0.5728155339805825|\n",
            "+------+------+------------------+\n",
            "\n",
            "Computation time: 14.212 seconds\n",
            "------------------------------------\n",
            "Size: 12800\n",
            "Approximately joining on distance smaller than 0.6, duplicate ids removed:\n",
            "+------+------+------------------+\n",
            "|   id1|   id2|   JaccardDistance|\n",
            "+------+------+------------------+\n",
            "|612820|634630|0.4591836734693877|\n",
            "|270440|272190|0.5728155339805825|\n",
            "+------+------+------------------+\n",
            "\n",
            "Computation time: 43.078 seconds\n",
            "------------------------------------\n",
            "Size: 25600\n",
            "Approximately joining on distance smaller than 0.6, duplicate ids removed:\n",
            "+-------+-------+------------------+\n",
            "|    id1|    id2|   JaccardDistance|\n",
            "+-------+-------+------------------+\n",
            "|1041520|1042370| 0.303030303030303|\n",
            "| 503310| 835280|             0.375|\n",
            "| 612820| 634630|0.4591836734693877|\n",
            "| 897770| 905410|0.4675324675324676|\n",
            "| 252660| 920670|0.5454545454545454|\n",
            "| 690070| 809180|0.5666666666666667|\n",
            "|1082310|1276960|0.5705521472392638|\n",
            "| 198460|1125640|0.5714285714285714|\n",
            "| 270440| 272190|0.5728155339805825|\n",
            "| 865480|1071630|0.5925925925925926|\n",
            "+-------+-------+------------------+\n",
            "\n",
            "Computation time: 140.837 seconds\n",
            "------------------------------------\n",
            "Size: 51200\n",
            "Approximately joining on distance smaller than 0.6, duplicate ids removed:\n",
            "+-------+-------+-------------------+\n",
            "|    id1|    id2|    JaccardDistance|\n",
            "+-------+-------+-------------------+\n",
            "|1999930|2012430|0.16981132075471694|\n",
            "|2412400|2413480|0.19354838709677424|\n",
            "|1041520|1042370|  0.303030303030303|\n",
            "|  52550|1479100|0.33333333333333337|\n",
            "|1182220|2062480|0.33333333333333337|\n",
            "| 503310| 835280|              0.375|\n",
            "|2222470|2327120|0.37623762376237624|\n",
            "| 715630|2142730| 0.3786407766990292|\n",
            "|2046970|2065370|             0.4375|\n",
            "|1722750|1722860|0.43999999999999995|\n",
            "+-------+-------+-------------------+\n",
            "only showing top 10 rows\n",
            "\n",
            "Computation time: 499.194 seconds\n",
            "------------------------------------\n",
            "Size: 102400\n",
            "Approximately joining on distance smaller than 0.6, duplicate ids removed:\n",
            "+-------+-------+-------------------+\n",
            "|    id1|    id2|    JaccardDistance|\n",
            "+-------+-------+-------------------+\n",
            "|2311160|4115730|                0.0|\n",
            "|3669960|3676110|                0.0|\n",
            "|2576770|2577140|                0.0|\n",
            "|2807730|2808090|                0.0|\n",
            "|2311160|3633320|                0.0|\n",
            "|3633320|4115730|                0.0|\n",
            "|4000000|4000780| 0.0714285714285714|\n",
            "|3748710|3776900|0.14814814814814814|\n",
            "|1999930|2012430|0.16981132075471694|\n",
            "|2412400|2413480|0.19354838709677424|\n",
            "+-------+-------+-------------------+\n",
            "only showing top 10 rows\n",
            "\n",
            "Computation time: 1862.97 seconds\n",
            "------------------------------------\n"
          ]
        }
      ]
    },
    {
      "cell_type": "code",
      "source": [
        "computation_time_tf"
      ],
      "metadata": {
        "colab": {
          "base_uri": "https://localhost:8080/"
        },
        "id": "I97iLJwEzG_s",
        "outputId": "3f232c2a-e15d-41a8-d9e9-266b53723778"
      },
      "execution_count": null,
      "outputs": [
        {
          "output_type": "execute_result",
          "data": {
            "text/plain": [
              "[1.081,\n",
              " 1.186,\n",
              " 1.344,\n",
              " 1.726,\n",
              " 3.026,\n",
              " 5.552,\n",
              " 14.212,\n",
              " 43.078,\n",
              " 140.837,\n",
              " 499.194,\n",
              " 1862.97]"
            ]
          },
          "metadata": {},
          "execution_count": 28
        }
      ]
    },
    {
      "cell_type": "code",
      "source": [
        "hash.show()"
      ],
      "metadata": {
        "colab": {
          "base_uri": "https://localhost:8080/"
        },
        "id": "E5_jILYQ9SVl",
        "outputId": "4c58e94e-021b-4f8a-f74a-71ddd5f36cb9"
      },
      "execution_count": null,
      "outputs": [
        {
          "output_type": "stream",
          "name": "stdout",
          "text": [
            "+----+------------------------+--------------------+----------------+\n",
            "|  Id|Tokens stopwords removed|                  TF|          hashes|\n",
            "+----+------------------------+--------------------+----------------+\n",
            "|  80|    [ive, written, da...|(1024,[3,6,11,40,...|   [[2078511.0]]|\n",
            "|  90|    [really, good, tu...|(1024,[65,80,348,...|  [[5.527494E7]]|\n",
            "| 120|    [anyone, got, exp...|(1024,[19,39,88,9...| [[3.0469636E7]]|\n",
            "| 180|    [something, ive, ...|(1024,[9,17,105,1...|   [[2703620.0]]|\n",
            "| 260|    [little, game, wr...|(1024,[43,53,58,7...| [[8.2415847E7]]|\n",
            "| 330|    [working, collect...|(1024,[77,79,108,...|   [[2703620.0]]|\n",
            "| 470|    [ive, writing, we...|(1024,[29,58,70,1...| [[4.9813792E7]]|\n",
            "| 580|    [wonder, guys, ma...|(1024,[0,35,39,56...| [[1.6586628E7]]|\n",
            "| 650|    [like, version, p...|(1024,[3,4,23,53,...| [[6.0110979E7]]|\n",
            "| 810|    [im, trying, main...|(1024,[47,58,71,8...| [[2.2047776E7]]|\n",
            "| 930|    [whats, simplest,...|(1024,[58,153,168...| [[8.2415847E7]]|\n",
            "|1010|    [need, grab, base...|(1024,[70,110,119...| [[5.8860761E7]]|\n",
            "|1040|    [im, looking, way...|(1024,[31,81,88,1...|[[1.63378292E8]]|\n",
            "|1070|    [correct, way, ge...|(1024,[37,94,271,...| [[2.3404355E8]]|\n",
            "|1160|    [using, ccnet, sa...|(1024,[3,17,65,71...|[[1.10806972E8]]|\n",
            "|1180|    [looking, allow, ...|(1024,[8,9,55,114...|[[1.06596042E8]]|\n",
            "|1300|    [using, msbuild, ...|(1024,[17,49,79,9...|   [[2078511.0]]|\n",
            "|1390|    [im, setting, ded...|(1024,[77,90,106,...| [[3.0469636E7]]|\n",
            "|1600|    [always, create, ...|(1024,[58,81,83,1...| [[8.2415847E7]]|\n",
            "|1610|    [im, adding, colu...|(1024,[40,64,65,7...| [[2.1422667E7]]|\n",
            "+----+------------------------+--------------------+----------------+\n",
            "only showing top 20 rows\n",
            "\n"
          ]
        }
      ]
    },
    {
      "cell_type": "code",
      "source": [
        "hash.first()['TF']"
      ],
      "metadata": {
        "colab": {
          "base_uri": "https://localhost:8080/"
        },
        "id": "7CSyF4UMhaO6",
        "outputId": "6aee8daa-8af1-4625-d6fb-b470b3be929c"
      },
      "execution_count": null,
      "outputs": [
        {
          "output_type": "execute_result",
          "data": {
            "text/plain": [
              "SparseVector(1024, {3: 1.0, 6: 1.0, 11: 1.0, 40: 1.0, 56: 1.0, 58: 1.0, 59: 1.0, 93: 1.0, 107: 1.0, 112: 1.0, 120: 2.0, 138: 1.0, 151: 1.0, 153: 2.0, 160: 1.0, 165: 1.0, 188: 2.0, 206: 1.0, 228: 2.0, 230: 1.0, 233: 1.0, 246: 1.0, 271: 1.0, 274: 1.0, 308: 2.0, 319: 1.0, 320: 1.0, 323: 1.0, 336: 1.0, 341: 2.0, 344: 1.0, 348: 189.0, 357: 1.0, 360: 2.0, 363: 3.0, 393: 2.0, 419: 1.0, 426: 2.0, 439: 4.0, 452: 2.0, 461: 1.0, 489: 1.0, 492: 3.0, 493: 1.0, 516: 1.0, 537: 1.0, 544: 1.0, 560: 1.0, 569: 1.0, 582: 1.0, 595: 5.0, 603: 1.0, 610: 1.0, 613: 1.0, 639: 2.0, 648: 1.0, 661: 5.0, 674: 1.0, 681: 1.0, 684: 3.0, 688: 1.0, 708: 1.0, 731: 3.0, 736: 1.0, 745: 3.0, 777: 1.0, 782: 2.0, 798: 1.0, 801: 3.0, 806: 8.0, 813: 1.0, 816: 1.0, 823: 1.0, 836: 2.0, 859: 1.0, 860: 1.0, 868: 1.0, 902: 1.0, 908: 1.0, 920: 1.0, 927: 1.0, 936: 1.0, 961: 1.0, 986: 1.0, 989: 1.0, 1015: 1.0})"
            ]
          },
          "metadata": {},
          "execution_count": 31
        }
      ]
    },
    {
      "cell_type": "code",
      "source": [
        "hash.first()['hashes']"
      ],
      "metadata": {
        "colab": {
          "base_uri": "https://localhost:8080/"
        },
        "id": "L6fYMruwhJuZ",
        "outputId": "a5186892-f8a4-4e10-85e2-0b4d7624f0df"
      },
      "execution_count": null,
      "outputs": [
        {
          "output_type": "execute_result",
          "data": {
            "text/plain": [
              "[DenseVector([2078511.0])]"
            ]
          },
          "metadata": {},
          "execution_count": 30
        }
      ]
    },
    {
      "cell_type": "code",
      "source": [
        "# examples of similar questions detected\n",
        "questions_df.filter( (questions_df.Id  == 2311160) | (questions_df.Id  == 4115730) ) \\\n",
        "    .show(truncate=False)"
      ],
      "metadata": {
        "colab": {
          "base_uri": "https://localhost:8080/"
        },
        "id": "7NS_ShDKzRsg",
        "outputId": "e996cd0d-cdaa-4eda-8fe3-c894c1ae293d"
      },
      "execution_count": null,
      "outputs": [
        {
          "output_type": "stream",
          "name": "stdout",
          "text": [
            "+-------+-----------+-------------------+----------+-----+------------------------------------------------------------------+-----------------------------+\n",
            "|Id     |OwnerUserId|CreationDate       |ClosedDate|Score|Title                                                             |Body                         |\n",
            "+-------+-----------+-------------------+----------+-----+------------------------------------------------------------------+-----------------------------+\n",
            "|2311160|116875     |2010-02-22 13:39:40|NA        |0    |Is There a way to update/refresh only one record in delphi dbgrid?|<p>Is it possible? How?</p>\\n|\n",
            "|4115730|495315     |2010-11-06 23:31:27|NA        |0    |Iphone simulator without iphone SDK?                              |<p>Is it possible?</p>\\n     |\n",
            "+-------+-----------+-------------------+----------+-----+------------------------------------------------------------------+-----------------------------+\n",
            "\n"
          ]
        }
      ]
    },
    {
      "cell_type": "code",
      "source": [
        "# examples of the similar questions detected\n",
        "questions_df.filter( (questions_df.Id  == 3669960) | (questions_df.Id  == 3676110) ) \\\n",
        "    .show(truncate=False)"
      ],
      "metadata": {
        "colab": {
          "base_uri": "https://localhost:8080/"
        },
        "id": "uGGFqle_Bzop",
        "outputId": "607f1f32-2e54-41d2-f411-fb159975ad43"
      },
      "execution_count": null,
      "outputs": [
        {
          "output_type": "stream",
          "name": "stdout",
          "text": [
            "+-------+-----------+-------------------+----------+-----+--------------------------------------------------------+-----------------------------------------------------------------------------------------------------------------------------------------------------------------------------------------------------------------------------------------------------------------------------------------------------------------------------------------------------------------------------------------------------------------------------------------------+\n",
            "|Id     |OwnerUserId|CreationDate       |ClosedDate|Score|Title                                                   |Body                                                                                                                                                                                                                                                                                                                                                                                                                                           |\n",
            "+-------+-----------+-------------------+----------+-----+--------------------------------------------------------+-----------------------------------------------------------------------------------------------------------------------------------------------------------------------------------------------------------------------------------------------------------------------------------------------------------------------------------------------------------------------------------------------------------------------------------------------+\n",
            "|3669960|32816      |2010-09-08 16:39:18|NA        |0    |How can I debug an Actionscript project in Flex builder?|<p>I am trying to use Flex builder for the first time in years. I haven't used the \"Run Application\" option before, and when I do that now it tells me \"Errors exist in required projects\" and whether I should proceed. I would like to debug those errors.</p>\\n\\n<p>Does anyone know how I can do that?</p>\\n\\n<p>PS: When I click the \"Debug\" button, it does exactly the same thing. I don't see error output in the console views. </p>\\n|\n",
            "|3676110|32816      |2010-09-08 16:25:44|NA        |0    |How do I debug an Actionscript project in Flex builder? |<p>I am trying to use Flex builder for the first time in years. I haven't used the \"Run Application\" option before, and when I do that now it tells me \"Errors exist in required projects\" and whether I should proceed. I would like to debug those errors. </p>\\n\\n<p>Does anyone know how I can do that?</p>\\n\\n<p>PS: When I click the \"Debug\" button, it does exactly the same thing. I don't see error output in the console views.</p>\\n|\n",
            "+-------+-----------+-------------------+----------+-----+--------------------------------------------------------+-----------------------------------------------------------------------------------------------------------------------------------------------------------------------------------------------------------------------------------------------------------------------------------------------------------------------------------------------------------------------------------------------------------------------------------------------+\n",
            "\n"
          ]
        }
      ]
    },
    {
      "cell_type": "code",
      "source": [
        "# examples of the similar questions detected\n",
        "questions_df.filter( (questions_df.Id  == 2807730) | (questions_df.Id  == 2808090) ) \\\n",
        "    .show(truncate=False)"
      ],
      "metadata": {
        "colab": {
          "base_uri": "https://localhost:8080/"
        },
        "id": "LQLfG-ddS4Og",
        "outputId": "0f796b50-fe05-4201-c0f5-57a09b541bfe"
      },
      "execution_count": null,
      "outputs": [
        {
          "output_type": "stream",
          "name": "stdout",
          "text": [
            "+-------+-----------+-------------------+----------+-----+---------------------------+------------------------------------------------------------------------------------------------------------------------------------------------------------------------------------------------------------------------------------------------------------------------------------------------------------------------------------------------------------------------------------------------------------------------------------------------------------+\n",
            "|Id     |OwnerUserId|CreationDate       |ClosedDate|Score|Title                      |Body                                                                                                                                                                                                                                                                                                                                                                                                                                                        |\n",
            "+-------+-----------+-------------------+----------+-----+---------------------------+------------------------------------------------------------------------------------------------------------------------------------------------------------------------------------------------------------------------------------------------------------------------------------------------------------------------------------------------------------------------------------------------------------------------------------------------------------+\n",
            "|2807730|337841     |2010-05-11 02:34:48|NA        |0    |Cannot send value to paypal|<p>PayPal IPN sends a notification to your script directly. Since the notification is coming from PayPal - NOT the customer that placed the order - My Login session doesn't exits this context .Therefore,all my login data doesn't exist in the session.I need my login session values to update my DB with paypal ipn value.How should i mentain my login session should i set browser session or other way can i send login primary key to paypal.</p>\\n|\n",
            "|2808090|337841     |2010-05-11 04:32:26|NA        |0    |Cannot send value to paypal|<p>PayPal IPN sends a notification to your script directly. Since the notification is coming from PayPal - NOT the customer that placed the order - My Login session doesn't exits this context .Therefore,all my login data doesn't exist in the session.I need my login session values to update my DB with paypal ipn value.How should i mentain my login session should i set browser session or other way can i send login primary key to paypal.</p>\\n|\n",
            "+-------+-----------+-------------------+----------+-----+---------------------------+------------------------------------------------------------------------------------------------------------------------------------------------------------------------------------------------------------------------------------------------------------------------------------------------------------------------------------------------------------------------------------------------------------------------------------------------------------+\n",
            "\n"
          ]
        }
      ]
    },
    {
      "cell_type": "markdown",
      "source": [
        "#### TF-IDF + MinHash"
      ],
      "metadata": {
        "id": "xIbdK5nTCk_q"
      }
    },
    {
      "cell_type": "code",
      "source": [
        "computation_time_tf_idf = []\n",
        "for size in sample_size:\n",
        "  # set up a timer\n",
        "  start = time.time()\n",
        "\n",
        "  print('Size: ' + str(size))\n",
        "\n",
        "  # limit number of columns for analysis\n",
        "  questions_final_limited = questions_final_filtered.limit(size)\n",
        "\n",
        "  # computing TF - IDF\n",
        "  hashingTF = HashingTF(inputCol=\"Tokens stopwords removed\", outputCol=\"TF\", numFeatures=1024)\n",
        "  tf = hashingTF.transform(questions_final_limited)\n",
        "\n",
        "  idf = IDF(inputCol=\"TF\", outputCol=\"TF-IDF\")\n",
        "  idfModel = idf.fit(tf)\n",
        "  tfidf = idfModel.transform(tf)\n",
        "\n",
        "  # computing MinHash \n",
        "  mh = MinHashLSH(inputCol=\"TF-IDF\", outputCol=\"hashes\", seed = 3)\n",
        "  model = mh.fit(tfidf)\n",
        "  hash = model.transform(tfidf)\n",
        "\n",
        "  # computing the locality sensitive hashes and performing approximate similarity join\n",
        "  print(\"Approximately joining on distance smaller than 0.6, duplicate ids removed:\")\n",
        "  result = model.approxSimilarityJoin(hash, hash, 0.6, distCol=\"JaccardDistance\")\\\n",
        "              .select(col(\"datasetA.id\").alias(\"id1\"),\n",
        "              col(\"datasetB.id\").alias(\"id2\"),\n",
        "              col(\"JaccardDistance\")).filter('id1 < id2')\n",
        "              \n",
        "  # showing id pairs with distance < 0.6 sorted in ascending order\n",
        "  result.sort(result.JaccardDistance.asc()).show(10)\n",
        "\n",
        "  #stop the timer\n",
        "  end = time.time()\n",
        "\n",
        "  computation_time = round(end - start, 3)\n",
        "  print(\"Computation time: {} seconds\".format(round(end - start, 3)))\n",
        "\n",
        "  computation_time_tf_idf.append(computation_time)\n",
        "\n",
        "  print('------------------------------------')"
      ],
      "metadata": {
        "colab": {
          "base_uri": "https://localhost:8080/"
        },
        "id": "9h5FkUIo-jH9",
        "outputId": "bc462077-a5b4-4a20-90b2-64356580ba58"
      },
      "execution_count": null,
      "outputs": [
        {
          "output_type": "stream",
          "name": "stdout",
          "text": [
            "Size: 100\n",
            "Approximately joining on distance smaller than 0.6, duplicate ids removed:\n",
            "+---+---+---------------+\n",
            "|id1|id2|JaccardDistance|\n",
            "+---+---+---------------+\n",
            "+---+---+---------------+\n",
            "\n",
            "Computation time: 1.753 seconds\n",
            "------------------------------------\n",
            "Size: 200\n",
            "Approximately joining on distance smaller than 0.6, duplicate ids removed:\n",
            "+---+---+---------------+\n",
            "|id1|id2|JaccardDistance|\n",
            "+---+---+---------------+\n",
            "+---+---+---------------+\n",
            "\n",
            "Computation time: 1.823 seconds\n",
            "------------------------------------\n",
            "Size: 400\n",
            "Approximately joining on distance smaller than 0.6, duplicate ids removed:\n",
            "+---+---+---------------+\n",
            "|id1|id2|JaccardDistance|\n",
            "+---+---+---------------+\n",
            "+---+---+---------------+\n",
            "\n",
            "Computation time: 2.24 seconds\n",
            "------------------------------------\n",
            "Size: 800\n",
            "Approximately joining on distance smaller than 0.6, duplicate ids removed:\n",
            "+---+---+---------------+\n",
            "|id1|id2|JaccardDistance|\n",
            "+---+---+---------------+\n",
            "+---+---+---------------+\n",
            "\n",
            "Computation time: 3.103 seconds\n",
            "------------------------------------\n",
            "Size: 1600\n",
            "Approximately joining on distance smaller than 0.6, duplicate ids removed:\n",
            "+---+---+---------------+\n",
            "|id1|id2|JaccardDistance|\n",
            "+---+---+---------------+\n",
            "+---+---+---------------+\n",
            "\n",
            "Computation time: 5.626 seconds\n",
            "------------------------------------\n",
            "Size: 3200\n",
            "Approximately joining on distance smaller than 0.6, duplicate ids removed:\n",
            "+---+---+---------------+\n",
            "|id1|id2|JaccardDistance|\n",
            "+---+---+---------------+\n",
            "+---+---+---------------+\n",
            "\n",
            "Computation time: 8.551 seconds\n",
            "------------------------------------\n",
            "Size: 6400\n",
            "Approximately joining on distance smaller than 0.6, duplicate ids removed:\n",
            "+------+------+------------------+\n",
            "|   id1|   id2|   JaccardDistance|\n",
            "+------+------+------------------+\n",
            "|270440|272190|0.5728155339805825|\n",
            "+------+------+------------------+\n",
            "\n",
            "Computation time: 19.299 seconds\n",
            "------------------------------------\n",
            "Size: 12800\n",
            "Approximately joining on distance smaller than 0.6, duplicate ids removed:\n",
            "+------+------+------------------+\n",
            "|   id1|   id2|   JaccardDistance|\n",
            "+------+------+------------------+\n",
            "|612820|634630|0.4591836734693877|\n",
            "|270440|272190|0.5728155339805825|\n",
            "+------+------+------------------+\n",
            "\n",
            "Computation time: 54.097 seconds\n",
            "------------------------------------\n",
            "Size: 25600\n",
            "Approximately joining on distance smaller than 0.6, duplicate ids removed:\n",
            "+-------+-------+------------------+\n",
            "|    id1|    id2|   JaccardDistance|\n",
            "+-------+-------+------------------+\n",
            "|1041520|1042370| 0.303030303030303|\n",
            "| 503310| 835280|             0.375|\n",
            "| 612820| 634630|0.4591836734693877|\n",
            "| 897770| 905410|0.4675324675324676|\n",
            "| 252660| 920670|0.5454545454545454|\n",
            "| 690070| 809180|0.5666666666666667|\n",
            "|1082310|1276960|0.5705521472392638|\n",
            "| 198460|1125640|0.5714285714285714|\n",
            "| 270440| 272190|0.5728155339805825|\n",
            "| 865480|1071630|0.5925925925925926|\n",
            "+-------+-------+------------------+\n",
            "\n",
            "Computation time: 162.047 seconds\n",
            "------------------------------------\n",
            "Size: 51200\n",
            "Approximately joining on distance smaller than 0.6, duplicate ids removed:\n",
            "+-------+-------+-------------------+\n",
            "|    id1|    id2|    JaccardDistance|\n",
            "+-------+-------+-------------------+\n",
            "|1999930|2012430|0.16981132075471694|\n",
            "|2412400|2413480|0.19354838709677424|\n",
            "|1041520|1042370|  0.303030303030303|\n",
            "|  52550|1479100|0.33333333333333337|\n",
            "|1182220|2062480|0.33333333333333337|\n",
            "| 503310| 835280|              0.375|\n",
            "|2222470|2327120|0.37623762376237624|\n",
            "| 715630|2142730| 0.3786407766990292|\n",
            "|2046970|2065370|             0.4375|\n",
            "|1722750|1722860|0.43999999999999995|\n",
            "+-------+-------+-------------------+\n",
            "only showing top 10 rows\n",
            "\n",
            "Computation time: 548.943 seconds\n",
            "------------------------------------\n",
            "Size: 102400\n",
            "Approximately joining on distance smaller than 0.6, duplicate ids removed:\n",
            "+-------+-------+-------------------+\n",
            "|    id1|    id2|    JaccardDistance|\n",
            "+-------+-------+-------------------+\n",
            "|2311160|4115730|                0.0|\n",
            "|3669960|3676110|                0.0|\n",
            "|2576770|2577140|                0.0|\n",
            "|2807730|2808090|                0.0|\n",
            "|2311160|3633320|                0.0|\n",
            "|3633320|4115730|                0.0|\n",
            "|4000000|4000780| 0.0714285714285714|\n",
            "|3748710|3776900|0.14814814814814814|\n",
            "|1999930|2012430|0.16981132075471694|\n",
            "|2412400|2413480|0.19354838709677424|\n",
            "+-------+-------+-------------------+\n",
            "only showing top 10 rows\n",
            "\n",
            "Computation time: 3336.834 seconds\n",
            "------------------------------------\n"
          ]
        }
      ]
    },
    {
      "cell_type": "code",
      "source": [
        "computation_time_tf_idf"
      ],
      "metadata": {
        "colab": {
          "base_uri": "https://localhost:8080/"
        },
        "id": "qznfVsPrDK8V",
        "outputId": "4219d9c3-661b-4a90-e083-502cd01f2d78"
      },
      "execution_count": null,
      "outputs": [
        {
          "output_type": "execute_result",
          "data": {
            "text/plain": [
              "[1.753,\n",
              " 1.823,\n",
              " 2.24,\n",
              " 3.103,\n",
              " 5.626,\n",
              " 8.551,\n",
              " 19.299,\n",
              " 54.097,\n",
              " 162.047,\n",
              " 548.943,\n",
              " 3336.834]"
            ]
          },
          "metadata": {},
          "execution_count": 22
        }
      ]
    },
    {
      "cell_type": "markdown",
      "source": [
        "#### TF + cosine similarity join (full scan)"
      ],
      "metadata": {
        "id": "TPX4byssezvg"
      }
    },
    {
      "cell_type": "code",
      "metadata": {
        "id": "iirS_8dZSqe_"
      },
      "source": [
        "# define cosine similarity as a dot product of 2 vectors\n",
        "dot_udf = udf(lambda x,y: float(x.dot(y)), DoubleType())"
      ],
      "execution_count": null,
      "outputs": []
    },
    {
      "cell_type": "code",
      "source": [
        "# set a new chunk size list\n",
        "sample_size2 = [100, 200, 400, 800, 1600, 3200]\n",
        "\n",
        "computation_time_tf_cosine = []\n",
        "for size in sample_size2:\n",
        "  # set up a timer\n",
        "  start = time.time()\n",
        "\n",
        "  print('Size: ' + str(size))\n",
        "\n",
        "  start = time.time()\n",
        "\n",
        "  # limit number of columns for analysis\n",
        "  questions_final_limited = questions_final_filtered.limit(size)\n",
        "\n",
        "  # computing TF\n",
        "  hashingTF = HashingTF(inputCol=\"Tokens stopwords removed\", outputCol=\"TF\", numFeatures=1024)\n",
        "  tf = hashingTF.transform(questions_final_limited)\n",
        "\n",
        "  # normalizing\n",
        "  normalizer = Normalizer(inputCol=\"TF\", outputCol=\"TF_norm\", p=1.0)\n",
        "  tf_norm = normalizer.transform(tf)\n",
        "\n",
        "  print(\"Joining on cosine distance, duplicate ids removed:\")\n",
        "  result = tf_norm.alias(\"i\").join(tf_norm.alias(\"j\"), col(\"i.Id\") < col(\"j.Id\"))\\\n",
        "                        .select(\n",
        "                            col(\"i.Id\").alias(\"i_Id\"), \n",
        "                            col(\"j.Id\").alias(\"j_Id\"), \n",
        "                            dot_udf(\"i.TF_norm\", \"j.TF_norm\").alias(\"cosine_similarity\"))\\\n",
        "                        .sort(\"i_Id\", \"j_Id\")\n",
        "\n",
        "  # showing id pairs sorted in descending order (similarity)\n",
        "  result.sort(result.cosine_similarity.desc()).show(10)\n",
        "\n",
        "  #stop the timer\n",
        "  end = time.time()\n",
        "\n",
        "  computation_time = round(end - start, 3)\n",
        "  print(\"Computation time: {} seconds\".format(round(end - start, 3)))\n",
        "\n",
        "  computation_time_tf_cosine.append(computation_time)\n",
        "\n",
        "  print('------------------------------------')"
      ],
      "metadata": {
        "colab": {
          "base_uri": "https://localhost:8080/"
        },
        "id": "mk5sbK4q-zNG",
        "outputId": "9f917e3b-2722-4f4c-97e4-958de6da60fd"
      },
      "execution_count": null,
      "outputs": [
        {
          "output_type": "stream",
          "name": "stdout",
          "text": [
            "Size: 100\n",
            "Joining on cosine distance, duplicate ids removed:\n",
            "+----+----+-------------------+\n",
            "|i_Id|j_Id|  cosine_similarity|\n",
            "+----+----+-------------------+\n",
            "|  80|6110|0.39837252652710053|\n",
            "|6110|8800| 0.3804300920598389|\n",
            "|5260|6110|0.34034706824340966|\n",
            "|  80|8800| 0.3402946931278201|\n",
            "|  80|5260| 0.3045403640156275|\n",
            "|2780|6110| 0.2945772058823529|\n",
            "|5260|8800|  0.290436005625879|\n",
            "|2900|6110|0.27213879870129865|\n",
            "|6110|6340|  0.271934227433344|\n",
            "|  80|2780|  0.263082204490629|\n",
            "+----+----+-------------------+\n",
            "only showing top 10 rows\n",
            "\n",
            "Computation time: 2.429 seconds\n",
            "------------------------------------\n",
            "Size: 200\n",
            "Joining on cosine distance, duplicate ids removed:\n",
            "+-----+-----+-------------------+\n",
            "| i_Id| j_Id|  cosine_similarity|\n",
            "+-----+-----+-------------------+\n",
            "|13160|13620|0.49465364946536494|\n",
            "| 6110|13620|0.47686688311688313|\n",
            "|13620|16340| 0.4767365661861075|\n",
            "|13160|16340|0.46241986871905105|\n",
            "| 6110|13160|0.46240252947888927|\n",
            "| 6110|16340|  0.445703450792327|\n",
            "|   80|13620| 0.4258675078864353|\n",
            "|   80|13160| 0.4132558108839407|\n",
            "| 8800|13620|  0.406871609403255|\n",
            "|   80| 6110|0.39837252652710053|\n",
            "+-----+-----+-------------------+\n",
            "only showing top 10 rows\n",
            "\n",
            "Computation time: 6.711 seconds\n",
            "------------------------------------\n",
            "Size: 400\n",
            "Joining on cosine distance, duplicate ids removed:\n",
            "+-----+-----+------------------+\n",
            "| i_Id| j_Id| cosine_similarity|\n",
            "+-----+-----+------------------+\n",
            "|25200|31380|0.6008231088054458|\n",
            "|13620|25200| 0.589210557960558|\n",
            "|13160|25200|0.5713486195638393|\n",
            "|16340|25200|0.5507725622046152|\n",
            "| 6110|25200|0.5506844008264462|\n",
            "|25200|35320|0.5463650932400932|\n",
            "|25200|26670|0.5263580035266459|\n",
            "|13620|31380|0.5204738900391075|\n",
            "|13160|31380|0.5046085743739009|\n",
            "|22720|25200|0.4982281541833428|\n",
            "+-----+-----+------------------+\n",
            "only showing top 10 rows\n",
            "\n",
            "Computation time: 22.766 seconds\n",
            "------------------------------------\n",
            "Size: 800\n",
            "Joining on cosine distance, duplicate ids removed:\n",
            "+-----+-----+------------------+\n",
            "| i_Id| j_Id| cosine_similarity|\n",
            "+-----+-----+------------------+\n",
            "|25200|43870| 0.620225991114149|\n",
            "|25200|53480| 0.614909119664554|\n",
            "|25200|62490|0.6037402450711941|\n",
            "|25200|31380|0.6008231088054458|\n",
            "|25200|46350|0.5946344793108752|\n",
            "|25200|48340| 0.589301948051948|\n",
            "|13620|25200| 0.589210557960558|\n",
            "|25200|53820|0.5785241895920602|\n",
            "|25200|54440|0.5783860804304728|\n",
            "|13160|25200|0.5713486195638393|\n",
            "+-----+-----+------------------+\n",
            "only showing top 10 rows\n",
            "\n",
            "Computation time: 86.999 seconds\n",
            "------------------------------------\n",
            "Size: 1600\n",
            "Joining on cosine distance, duplicate ids removed:\n",
            "+-----+------+------------------+\n",
            "| i_Id|  j_Id| cosine_similarity|\n",
            "+-----+------+------------------+\n",
            "|25200| 87330|0.6733196119356833|\n",
            "|25200| 91360| 0.661716276571687|\n",
            "|87330| 91360|0.6548888212001219|\n",
            "|25200|121000| 0.635259281099919|\n",
            "|87330|121000|0.6285886023413573|\n",
            "|25200| 43870| 0.620225991114149|\n",
            "|91360|121000|0.6178643947164598|\n",
            "|25200|116560|0.6173728883192007|\n",
            "|25200| 53480| 0.614909119664554|\n",
            "|43870| 87330|0.6138560687432867|\n",
            "+-----+------+------------------+\n",
            "only showing top 10 rows\n",
            "\n",
            "Computation time: 340.88 seconds\n",
            "------------------------------------\n",
            "Size: 3200\n",
            "Joining on cosine distance, duplicate ids removed:\n",
            "+------+------+------------------+\n",
            "|  i_Id|  j_Id| cosine_similarity|\n",
            "+------+------+------------------+\n",
            "|187000|198320|0.7922762758475036|\n",
            "| 25200|187000|0.7368356627329401|\n",
            "| 25200|198320|0.7316614773239379|\n",
            "| 87330|187000|0.7292382299454435|\n",
            "| 87330|198320|0.7240253469571696|\n",
            "| 91360|187000|0.7166600988457056|\n",
            "| 91360|198320|0.7115296657765702|\n",
            "|187000|191250|0.7015500985126762|\n",
            "|191250|198320|0.6965472816940496|\n",
            "|187000|238490|0.6944444444444445|\n",
            "+------+------+------------------+\n",
            "only showing top 10 rows\n",
            "\n",
            "Computation time: 1362.607 seconds\n",
            "------------------------------------\n"
          ]
        }
      ]
    },
    {
      "cell_type": "code",
      "metadata": {
        "id": "fB3z1yP_4tDx",
        "colab": {
          "base_uri": "https://localhost:8080/"
        },
        "outputId": "6ca9c0bd-c2b8-46b4-b54b-2e1ec150ad07"
      },
      "source": [
        "# examples of similar questions detected\n",
        "questions_df.filter( (questions_df.Id  == 187000) | (questions_df.Id  == 198320) ) \\\n",
        "    .show(truncate=False)"
      ],
      "execution_count": null,
      "outputs": [
        {
          "output_type": "stream",
          "name": "stdout",
          "text": [
            "+------+-----------+-------------------+----------+-----+--------------------------------------------------+------------------------------------------------------------------------------------------------------------------------------------------------------------------------------------------------------------------------------------------------------------------------------------------------------------------------------------------------------------------------------------------------------------------------------------------------------------------------------------------------------------------------------------------------------------------------------------------------------------------------------------------------------------------------------------------------------------------------------------------------------------------------------------------------------------------------------------------------------------------------------------------------------------------------------------------------------------------------------------------------------------------------------------------------------------------------------------------------------------------------------------------------------------------------------------------------------------------------------------------------------------------------------------------------------------------------------------------------------------------------------------------------------------------------------------------------------------------------------------------------------------------------------------------------------------------------------------------------------------------------------------------------------------------------------------------------------------------------------------------------------------------------------------------------------------------------------------------------------------------------------------------------------------------------------------------------------------------------------------------------------------------------------------------------------------------------------------------------------------------------------------------------------------------------------------------------------------------------------------------------------------------------------------------------------------------------------------------------------------------------------------------------------------------------------------------------------------------------------------------------------------------------------------------------------------------------------------------------------------------------------------------------------------------------------------------------------------------------------------------------------------------------------------------------------------------------------------------------------------------------------------------------------------------------------------------------------------------------------------------------------------------------------------------------------------------------------------------------------------------------------------------------------------------------------------------------------------------------------------------------------------------------------------------------------------------------------------------------------------------------------------------------------------------------------------------------------------------------------------------------------------------------------------------------------------------------------------------------------------------------------------------------------------------------------------------------------------------------------------------------------------------------------------------------------------------------------------------------------------------------------------------------------------------------------------------------------------------------------------------------------------------------------------------------------------------------------------------------------------------------------------------------------------------------------------------------------------------------------------------------------------------------------------------------------------------------------------------------------------------------------------------------------------------------------------------------------------------------------------------------------------------------------------------------------------------------------------------------------------------------------------------------------------------------------------------------------------------------------------------------------------------------------------------------------------------------------------------------------------------------------------------------------------------------------------------------------------------------------------------------------------------------------------------------------------------------------------------------------------------------------------------------------------------------------------------------------------------------------------------------------------------------------------------------------------------------------------------------------------------------------------------------------------------------------------------------------------------------------------------------------------------------------------------------------------------------------------------------------------------------------------------------------+\n",
            "|Id    |OwnerUserId|CreationDate       |ClosedDate|Score|Title                                             |Body                                                                                                                                                                                                                                                                                                                                                                                                                                                                                                                                                                                                                                                                                                                                                                                                                                                                                                                                                                                                                                                                                                                                                                                                                                                                                                                                                                                                                                                                                                                                                                                                                                                                                                                                                                                                                                                                                                                                                                                                                                                                                                                                                                                                                                                                                                                                                                                                                                                                                                                                                                                                                                                                                                                                                                                                                                                                                                                                                                                                                                                                                                                                                                                                                                                                                                                                                                                                                                                                                                                                                                                                                                                                                                                                                                                                                                                                                                                                                                                                                                                                                                                                                                                                                                                                                                                                                                                                                                                                                                                                                                                                                                                                                                                                                                                                                                                                                                                                                                                                                                                                                                                                                                                                                                                                                                                                                                                                                                                                                                                                                                                                                                                  |\n",
            "+------+-----------+-------------------+----------+-----+--------------------------------------------------+------------------------------------------------------------------------------------------------------------------------------------------------------------------------------------------------------------------------------------------------------------------------------------------------------------------------------------------------------------------------------------------------------------------------------------------------------------------------------------------------------------------------------------------------------------------------------------------------------------------------------------------------------------------------------------------------------------------------------------------------------------------------------------------------------------------------------------------------------------------------------------------------------------------------------------------------------------------------------------------------------------------------------------------------------------------------------------------------------------------------------------------------------------------------------------------------------------------------------------------------------------------------------------------------------------------------------------------------------------------------------------------------------------------------------------------------------------------------------------------------------------------------------------------------------------------------------------------------------------------------------------------------------------------------------------------------------------------------------------------------------------------------------------------------------------------------------------------------------------------------------------------------------------------------------------------------------------------------------------------------------------------------------------------------------------------------------------------------------------------------------------------------------------------------------------------------------------------------------------------------------------------------------------------------------------------------------------------------------------------------------------------------------------------------------------------------------------------------------------------------------------------------------------------------------------------------------------------------------------------------------------------------------------------------------------------------------------------------------------------------------------------------------------------------------------------------------------------------------------------------------------------------------------------------------------------------------------------------------------------------------------------------------------------------------------------------------------------------------------------------------------------------------------------------------------------------------------------------------------------------------------------------------------------------------------------------------------------------------------------------------------------------------------------------------------------------------------------------------------------------------------------------------------------------------------------------------------------------------------------------------------------------------------------------------------------------------------------------------------------------------------------------------------------------------------------------------------------------------------------------------------------------------------------------------------------------------------------------------------------------------------------------------------------------------------------------------------------------------------------------------------------------------------------------------------------------------------------------------------------------------------------------------------------------------------------------------------------------------------------------------------------------------------------------------------------------------------------------------------------------------------------------------------------------------------------------------------------------------------------------------------------------------------------------------------------------------------------------------------------------------------------------------------------------------------------------------------------------------------------------------------------------------------------------------------------------------------------------------------------------------------------------------------------------------------------------------------------------------------------------------------------------------------------------------------------------------------------------------------------------------------------------------------------------------------------------------------------------------------------------------------------------------------------------------------------------------------------------------------------------------------------------------------------------------------------------------------------------------------------------------------------------------+\n",
            "|187000|10135      |2008-10-09 12:18:42|NA        |2    |Large File Download - Connection With Server Reset|<p>I have an asp.net website that allows the user to download largish files - 30mb to about 60mb.  Sometimes the download works fine but often it fails at some varying point before the download finishes with the message saying that the connection with the server was reset.</p>\\n\\n<p>Originally I was simply using Server.TransmitFile but after reading up a bit I am now using the code posted below.  I am also setting the Server.ScriptTimeout value to 3600 in the Page_Init event.</p>\\n\\n<pre><code>private void DownloadFile(string fname, bool forceDownload)\\n        {\\n            string path = MapPath(fname);\\n            string name = Path.GetFileName(path);\\n            string ext = Path.GetExtension(path);\\n            string type = \"\";\\n\\n            // set known types based on file extension  \\n\\n            if (ext != null)\\n            {\\n                switch (ext.ToLower())\\n                {\\n                    case \".mp3\":\\n                        type = \"audio/mpeg\";\\n                        break;\\n\\n                    case \".htm\":\\n                    case \".html\":\\n                        type = \"text/HTML\";\\n                        break;\\n\\n                    case \".txt\":\\n                        type = \"text/plain\";\\n                        break;\\n\\n                    case \".doc\":\\n                    case \".rtf\":\\n                        type = \"Application/msword\";\\n                        break;\\n                }\\n            }\\n\\n            if (forceDownload)\\n            {\\n                Response.AppendHeader(\"content-disposition\",\\n                    \"attachment; filename=\" + name.Replace(\" \", \"_\"));\\n            }\\n\\n            if (type != \"\")\\n            {\\n                Response.ContentType = type;\\n            }\\n            else\\n            {\\n                Response.ContentType = \"application/x-msdownload\";\\n            }\\n\\n            System.IO.Stream iStream = null;\\n\\n            // Buffer to read 10K bytes in chunk:\\n            byte[] buffer = new Byte[10000];\\n\\n            // Length of the file:\\n            int length;\\n\\n            // Total bytes to read:\\n            long dataToRead;\\n\\n            try\\n            {\\n                // Open the file.\\n                iStream = new System.IO.FileStream(path, System.IO.FileMode.Open,\\n                            System.IO.FileAccess.Read, System.IO.FileShare.Read);\\n\\n\\n                // Total bytes to read:\\n                dataToRead = iStream.Length;\\n\\n                //Response.ContentType = \"application/octet-stream\";\\n                //Response.AddHeader(\"Content-Disposition\", \"attachment; filename=\" + filename);\\n\\n                // Read the bytes.\\n                while (dataToRead &gt; 0)\\n                {\\n                    // Verify that the client is connected.\\n                    if (Response.IsClientConnected)\\n                    {\\n                        // Read the data in buffer.\\n                        length = iStream.Read(buffer, 0, 10000);\\n\\n                        // Write the data to the current output stream.\\n                        Response.OutputStream.Write(buffer, 0, length);\\n\\n                        // Flush the data to the HTML output.\\n                        Response.Flush();\\n\\n                        buffer = new Byte[10000];\\n                        dataToRead = dataToRead - length;\\n                    }\\n                    else\\n                    {\\n                        //prevent infinite loop if user disconnects\\n                        dataToRead = -1;\\n                    }\\n                }\\n            }\\n            catch (Exception ex)\\n            {\\n                // Trap the error, if any.\\n                Response.Write(\"Error : \" + ex.Message);\\n            }\\n            finally\\n            {\\n                if (iStream != null)\\n                {\\n                    //Close the file.\\n                    iStream.Close();\\n                }\\n                Response.Close();\\n            }\\n\\n        }\\n</code></pre>\\n                                                                                                                                                                                                                                                                                                                                                                                                                                                                                                                                                                                                                                                                                                                                                                                                                                                                                                                                                                                                                                                                                                                                                                                                                                                                                                                                                                                                                |\n",
            "|198320|20946      |2008-10-13 17:18:55|NA        |4    |Linq to SQL class lifespan                        |<p>As far as I can understand, when I new up a <em>Linq to SQL class</em>, it is the equivalent of new'ing up a <em>SqlConnection object</em>.</p>\\n\\n<p>Suppose I have an object with two methods: <code>Delete()</code> and <code>SubmitChanges()</code>. Would it be wise of me to new up the <em>Linq to SQL class</em> in each of the methods, or would a private variable holding the <em>Linq to SQL class</em> - new'ed up by the constructor - be the way to go?</p>\\n\\n<p>What I'm trying to avoid is a time-out.</p>\\n\\n<p><strong>UPDATE:</strong></p>\\n\\n<pre><code>namespace Madtastic\\n{\\n    public class Comment\\n    {\\n        private Boolean _isDirty = false;\\n        private Int32 _id = 0;\\n        private Int32 _recipeID = 0;\\n        private String _value = \"\";\\n        private Madtastic.User _user = null;\\n\\n        public Int32 ID\\n        {\\n            get\\n            {\\n                return this._id;\\n            }\\n        }\\n\\n        public String Value\\n        {\\n            get\\n            {\\n                return this._value;\\n            }\\n\\n            set\\n            {\\n                this._isDirty = true;\\n\\n                this._value = value;\\n            }\\n        }\\n\\n        public Madtastic.User Owner\\n        {\\n            get\\n            {\\n                return this._user;\\n            }\\n        }\\n\\n\\n        public Comment()\\n        {\\n        }\\n\\n\\n        public Comment(Int32 commentID)\\n        {            \\n            Madtastic.DataContext mdc = new Madtastic.DataContext();\\n\\n            var comment = (from c in mdc.Comments\\n                           where c.CommentsID == commentID\\n                           select c).FirstOrDefault();\\n\\n            if (comment != null)\\n            {\\n                this._id = comment.CommentsID;\\n                this._recipeID = comment.RecipesID;\\n                this._value = comment.CommentsValue;\\n                this._user = new User(comment.UsersID);\\n            }\\n\\n            mdc.Dispose();\\n        }\\n\\n\\n        public void SubmitChanges()\\n        {\\n            Madtastic.DataContext mdc = new Madtastic.DataContext();\\n\\n\\n            var comment = (from c in mdc.Comments\\n                           where c.CommentsID == this._id\\n                           select c).FirstOrDefault();\\n\\n            if (comment != null &amp;&amp; this._isDirty)\\n            {\\n                comment.CommentsValue = this._value;\\n            }\\n            else\\n            {\\n                Madtastic.Entities.Comment c = new Madtastic.Entities.Comment();\\n\\n                c.RecipesID = this._recipeID;\\n                c.UsersID = this._user.ID;\\n                c.CommentsValue = this._value;\\n\\n                mdc.Comments.InsertOnSubmit(c);\\n            }\\n\\n\\n            mdc.SubmitChanges();\\n\\n\\n            mdc.Dispose();\\n        }\\n\\n\\n        public void Delete()\\n        {\\n            Madtastic.DataContext mdc = new Madtastic.DataContext();\\n\\n            var comment = (from c in mdc.Comments\\n                           where c.CommentsID == this._id\\n                           select c).FirstOrDefault();\\n\\n            if (comment != null)\\n            {\\n                mdc.Comments.DeleteOnSubmit(comment);\\n\\n                mdc.SubmitChanges();\\n\\n                this._isDirty = false;\\n                this._id = 0;\\n                this._recipeID = 0;\\n                this._value = \"\";\\n                this._user = null;\\n            }\\n\\n            mdc.Dispose();\\n        }\\n    }\\n}\\n</code></pre>\\n\\n<p><strong>REFACTORED CODE (according to Grank's spec):</strong></p>\\n\\n<pre><code>namespace Madtastic\\n{\\n    public sealed class CommentNew : IDisposable\\n    {\\n        private Madtastic.DataContext _mdc;\\n        private Madtastic.Entities.Comment _comment;\\n        private Madtastic.User _user;\\n\\n\\n        public Int32 ID\\n        {\\n            get\\n            {\\n                return this._comment.CommentsID;\\n            }\\n        }\\n\\n        public String Value\\n        {\\n            get\\n            {\\n                return this._comment.CommentsValue;\\n            }\\n\\n            set\\n            {\\n                this._comment.CommentsValue = value;\\n            }\\n        }\\n\\n        public Madtastic.User Owner\\n        {\\n            get\\n            {\\n                return this._user;\\n            }\\n        }\\n\\n\\n        public void Comment(Int32 commentID)\\n        {\\n            this._mdc = new Madtastic.DataContext();\\n\\n            this._comment = (from c in _mdc.Comments\\n                             where c.CommentsID == commentID\\n                             select c).FirstOrDefault();\\n\\n            if (this._comment == null)\\n            {\\n                this._comment = new Madtastic.Entities.Comment();\\n\\n                this._mdc.Comments.InsertOnSubmit(this._comment);\\n            }\\n            else\\n            {\\n                this._user = new Madtastic.User(this._comment.User.UsersID);\\n            }\\n        }\\n\\n\\n        public void SubmitChanges()\\n        {\\n            this._mdc.SubmitChanges();\\n        }\\n\\n\\n        public void Delete()\\n        {\\n            this._mdc.Comments.DeleteOnSubmit(this._comment);\\n\\n            this.SubmitChanges();\\n        }\\n\\n\\n        void IDisposable.Dispose()\\n        {\\n            this._mdc.Dispose();\\n        }\\n    }\\n}\\n</code></pre>\\n|\n",
            "+------+-----------+-------------------+----------+-----+--------------------------------------------------+------------------------------------------------------------------------------------------------------------------------------------------------------------------------------------------------------------------------------------------------------------------------------------------------------------------------------------------------------------------------------------------------------------------------------------------------------------------------------------------------------------------------------------------------------------------------------------------------------------------------------------------------------------------------------------------------------------------------------------------------------------------------------------------------------------------------------------------------------------------------------------------------------------------------------------------------------------------------------------------------------------------------------------------------------------------------------------------------------------------------------------------------------------------------------------------------------------------------------------------------------------------------------------------------------------------------------------------------------------------------------------------------------------------------------------------------------------------------------------------------------------------------------------------------------------------------------------------------------------------------------------------------------------------------------------------------------------------------------------------------------------------------------------------------------------------------------------------------------------------------------------------------------------------------------------------------------------------------------------------------------------------------------------------------------------------------------------------------------------------------------------------------------------------------------------------------------------------------------------------------------------------------------------------------------------------------------------------------------------------------------------------------------------------------------------------------------------------------------------------------------------------------------------------------------------------------------------------------------------------------------------------------------------------------------------------------------------------------------------------------------------------------------------------------------------------------------------------------------------------------------------------------------------------------------------------------------------------------------------------------------------------------------------------------------------------------------------------------------------------------------------------------------------------------------------------------------------------------------------------------------------------------------------------------------------------------------------------------------------------------------------------------------------------------------------------------------------------------------------------------------------------------------------------------------------------------------------------------------------------------------------------------------------------------------------------------------------------------------------------------------------------------------------------------------------------------------------------------------------------------------------------------------------------------------------------------------------------------------------------------------------------------------------------------------------------------------------------------------------------------------------------------------------------------------------------------------------------------------------------------------------------------------------------------------------------------------------------------------------------------------------------------------------------------------------------------------------------------------------------------------------------------------------------------------------------------------------------------------------------------------------------------------------------------------------------------------------------------------------------------------------------------------------------------------------------------------------------------------------------------------------------------------------------------------------------------------------------------------------------------------------------------------------------------------------------------------------------------------------------------------------------------------------------------------------------------------------------------------------------------------------------------------------------------------------------------------------------------------------------------------------------------------------------------------------------------------------------------------------------------------------------------------------------------------------------------------------------------------------------------------------------------------+\n",
            "\n"
          ]
        }
      ]
    },
    {
      "cell_type": "code",
      "source": [
        "computation_time_tf_cosine = computation_time_tf_cosine + [0,0,0,0,0]\n",
        "computation_time_tf_cosine"
      ],
      "metadata": {
        "colab": {
          "base_uri": "https://localhost:8080/"
        },
        "id": "wcSZDSyLs_C0",
        "outputId": "b9f9793b-d77e-4116-e08d-c2ff6cbdda12"
      },
      "execution_count": null,
      "outputs": [
        {
          "output_type": "execute_result",
          "data": {
            "text/plain": [
              "[2.429, 6.711, 22.766, 86.999, 340.88, 1362.607, 0, 0, 0, 0, 0]"
            ]
          },
          "metadata": {},
          "execution_count": 37
        }
      ]
    },
    {
      "cell_type": "markdown",
      "source": [
        "### Algorithms performance comparison"
      ],
      "metadata": {
        "id": "epIEFuvCv4by"
      }
    },
    {
      "cell_type": "code",
      "source": [
        "# create a dataframe chunk size - running time\n",
        "import pandas as pd\n",
        "import numpy as np\n",
        "results_time = pd.DataFrame(\n",
        "    {'Dataset_size': sample_size,\n",
        "     'Computation_time_TF_LSH': computation_time_tf,\n",
        "     'Computation_time_TFIDF_LSH': computation_time_tf_idf,\n",
        "     'Computation_time_TF_cosine': computation_time_tf_cosine,\n",
        "    })\n",
        "results_time = results_time.replace(0, np.nan)"
      ],
      "metadata": {
        "id": "V2sRzS3H_CUf"
      },
      "execution_count": null,
      "outputs": []
    },
    {
      "cell_type": "code",
      "source": [
        "results_time"
      ],
      "metadata": {
        "colab": {
          "base_uri": "https://localhost:8080/",
          "height": 394
        },
        "id": "rKCfZr9CuPTX",
        "outputId": "c015973a-a12a-4f01-97cf-7fe6a9944861"
      },
      "execution_count": null,
      "outputs": [
        {
          "output_type": "execute_result",
          "data": {
            "text/html": [
              "<div>\n",
              "<style scoped>\n",
              "    .dataframe tbody tr th:only-of-type {\n",
              "        vertical-align: middle;\n",
              "    }\n",
              "\n",
              "    .dataframe tbody tr th {\n",
              "        vertical-align: top;\n",
              "    }\n",
              "\n",
              "    .dataframe thead th {\n",
              "        text-align: right;\n",
              "    }\n",
              "</style>\n",
              "<table border=\"1\" class=\"dataframe\">\n",
              "  <thead>\n",
              "    <tr style=\"text-align: right;\">\n",
              "      <th></th>\n",
              "      <th>Dataset_size</th>\n",
              "      <th>Computation_time_TF_LSH</th>\n",
              "      <th>Computation_time_TFIDF_LSH</th>\n",
              "      <th>Computation_time_TF_cosine</th>\n",
              "    </tr>\n",
              "  </thead>\n",
              "  <tbody>\n",
              "    <tr>\n",
              "      <th>0</th>\n",
              "      <td>100</td>\n",
              "      <td>1.081</td>\n",
              "      <td>1.753</td>\n",
              "      <td>2.429</td>\n",
              "    </tr>\n",
              "    <tr>\n",
              "      <th>1</th>\n",
              "      <td>200</td>\n",
              "      <td>1.186</td>\n",
              "      <td>1.823</td>\n",
              "      <td>6.711</td>\n",
              "    </tr>\n",
              "    <tr>\n",
              "      <th>2</th>\n",
              "      <td>400</td>\n",
              "      <td>1.344</td>\n",
              "      <td>2.240</td>\n",
              "      <td>22.766</td>\n",
              "    </tr>\n",
              "    <tr>\n",
              "      <th>3</th>\n",
              "      <td>800</td>\n",
              "      <td>1.726</td>\n",
              "      <td>3.103</td>\n",
              "      <td>86.999</td>\n",
              "    </tr>\n",
              "    <tr>\n",
              "      <th>4</th>\n",
              "      <td>1600</td>\n",
              "      <td>3.026</td>\n",
              "      <td>5.626</td>\n",
              "      <td>340.880</td>\n",
              "    </tr>\n",
              "    <tr>\n",
              "      <th>5</th>\n",
              "      <td>3200</td>\n",
              "      <td>5.552</td>\n",
              "      <td>8.551</td>\n",
              "      <td>1362.607</td>\n",
              "    </tr>\n",
              "    <tr>\n",
              "      <th>6</th>\n",
              "      <td>6400</td>\n",
              "      <td>14.212</td>\n",
              "      <td>19.299</td>\n",
              "      <td>NaN</td>\n",
              "    </tr>\n",
              "    <tr>\n",
              "      <th>7</th>\n",
              "      <td>12800</td>\n",
              "      <td>43.078</td>\n",
              "      <td>54.097</td>\n",
              "      <td>NaN</td>\n",
              "    </tr>\n",
              "    <tr>\n",
              "      <th>8</th>\n",
              "      <td>25600</td>\n",
              "      <td>140.837</td>\n",
              "      <td>162.047</td>\n",
              "      <td>NaN</td>\n",
              "    </tr>\n",
              "    <tr>\n",
              "      <th>9</th>\n",
              "      <td>51200</td>\n",
              "      <td>499.194</td>\n",
              "      <td>548.943</td>\n",
              "      <td>NaN</td>\n",
              "    </tr>\n",
              "    <tr>\n",
              "      <th>10</th>\n",
              "      <td>102400</td>\n",
              "      <td>1862.970</td>\n",
              "      <td>3336.834</td>\n",
              "      <td>NaN</td>\n",
              "    </tr>\n",
              "  </tbody>\n",
              "</table>\n",
              "</div>"
            ],
            "text/plain": [
              "    Dataset_size  ...  Computation_time_TF_cosine\n",
              "0            100  ...                       2.429\n",
              "1            200  ...                       6.711\n",
              "2            400  ...                      22.766\n",
              "3            800  ...                      86.999\n",
              "4           1600  ...                     340.880\n",
              "5           3200  ...                    1362.607\n",
              "6           6400  ...                         NaN\n",
              "7          12800  ...                         NaN\n",
              "8          25600  ...                         NaN\n",
              "9          51200  ...                         NaN\n",
              "10        102400  ...                         NaN\n",
              "\n",
              "[11 rows x 4 columns]"
            ]
          },
          "metadata": {},
          "execution_count": 7
        }
      ]
    },
    {
      "cell_type": "code",
      "source": [
        "# plotting running time against chunk size\n",
        "plt.figure(figsize=(8,5), dpi=80)\n",
        "plt.grid(linestyle='-', linewidth=0.4)\n",
        "\n",
        "plt.plot(results_time['Dataset_size'], results_time['Computation_time_TF_LSH'], label = 'Computation_time_TF_LSH', linewidth=2, marker = 'o', markersize =4) \n",
        "plt.plot(results_time['Dataset_size'], results_time['Computation_time_TFIDF_LSH'], label = \"Computation_time_TFIDF_LSH\", linewidth=2, marker = 'o', markersize =4)\n",
        "plt.plot(results_time['Dataset_size'], results_time['Computation_time_TF_cosine'], label = \"Computation_time_TF_cosine\", linewidth=2, marker = 'o', markersize =4)\n",
        "plt.legend()\n",
        "    \n",
        "# naming the x axis \n",
        "plt.xlabel('Chunk size') \n",
        "# naming the y axis \n",
        "plt.ylabel('Time in seconds') \n",
        "   \n",
        "plt.show() "
      ],
      "metadata": {
        "colab": {
          "base_uri": "https://localhost:8080/",
          "height": 370
        },
        "id": "tXezb0fi95zR",
        "outputId": "7025a7e8-0be8-4fb2-814a-0ac11a877a3f"
      },
      "execution_count": null,
      "outputs": [
        {
          "output_type": "display_data",
          "data": {
            "image/png": "[encoded data removed]",
            "text/plain": [
              "<Figure size 640x400 with 1 Axes>"
            ]
          },
          "metadata": {
            "needs_background": "light"
          }
        }
      ]
    },
    {
      "cell_type": "code",
      "source": [
        "fig, ax = plt.subplots()\n",
        "\n",
        "results_time.plot.bar(x='Dataset_size', ax=ax, figsize=(9,5), width=1)\n",
        "plt.grid(linestyle='-', linewidth=0.3)\n",
        "plt.xlabel('Chunk size') \n",
        "plt.ylabel('Time in seconds') \n",
        "plt.show()"
      ],
      "metadata": {
        "colab": {
          "base_uri": "https://localhost:8080/",
          "height": 365
        },
        "id": "MMcE5a9kwzS3",
        "outputId": "5b172aeb-572f-4f7f-ab42-8042563bd8f9"
      },
      "execution_count": null,
      "outputs": [
        {
          "output_type": "display_data",
          "data": {
            "image/png": "[encoded data removed]",
            "text/plain": [
              "<Figure size 648x360 with 1 Axes>"
            ]
          },
          "metadata": {
            "needs_background": "light"
          }
        }
      ]
    },
    {
      "cell_type": "code",
      "source": [
        "# predicting time required to run Algorithm 1: TF + MinHash on the entire dataset using Polynomial regression (degrees: 1,2,3,4)\n",
        "lin_reg = LinearRegression()\n",
        "x = np.array(results_time['Dataset_size'])\n",
        "x = x.reshape(-1, 1)\n",
        "\n",
        "for deg in [1,2,3,4]:\n",
        "# Fitting Polynomial Regression to the dataset\n",
        "  poly_reg = PolynomialFeatures(degree=deg)\n",
        "  X_poly = poly_reg.fit_transform(x)\n",
        "  pol_reg = LinearRegression()\n",
        "  pol_reg.fit(X_poly, results_time['Computation_time_TF_LSH'])\n",
        "# Predicting with Polymonial Regression\n",
        "  prediction = pol_reg.predict(poly_reg.fit_transform([[1264216]]))\n",
        "# print(prediction[0])\n",
        "  time_required = datetime.timedelta(seconds=prediction[0])\n",
        "  print(str(deg) + str (' degree polynomial: ')+ str(time_required))"
      ],
      "metadata": {
        "colab": {
          "base_uri": "https://localhost:8080/"
        },
        "id": "OIuHwE2v7yJS",
        "outputId": "9b1100cc-7045-46fc-ece3-2ad659a23637"
      },
      "execution_count": null,
      "outputs": [
        {
          "output_type": "stream",
          "name": "stdout",
          "text": [
            "1 degree polynomial: 5:56:21.965272\n",
            "2 degree polynomial: 3 days, 1:49:37.655261\n",
            "3 degree polynomial: 2 days, 11:15:32.017143\n",
            "4 degree polynomial: 240 days, 17:03:36.651973\n"
          ]
        }
      ]
    }
  ]
}